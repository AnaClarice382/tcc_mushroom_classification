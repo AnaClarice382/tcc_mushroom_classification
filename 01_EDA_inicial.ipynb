{
 "cells": [
  {
   "cell_type": "code",
   "execution_count": 1,
   "id": "a8cd51f3-d800-4e63-aed7-0430469746b1",
   "metadata": {},
   "outputs": [
    {
     "data": {
      "text/plain": [
       "'/Users/anarpereira/Docs_tcc/TCC'"
      ]
     },
     "execution_count": 1,
     "metadata": {},
     "output_type": "execute_result"
    }
   ],
   "source": [
    "import os\n",
    "os.getcwd()"
   ]
  },
  {
   "cell_type": "code",
   "execution_count": 2,
   "id": "b43d3398",
   "metadata": {
    "_cell_guid": "b1076dfc-b9ad-4769-8c92-a6c4dae69d19",
    "_uuid": "8f2839f25d086af736a60e9eeb907d3b93b6e0e5",
    "papermill": {
     "duration": 2.426314,
     "end_time": "2024-05-30T19:36:19.419113",
     "exception": false,
     "start_time": "2024-05-30T19:36:16.992799",
     "status": "completed"
    },
    "tags": []
   },
   "outputs": [],
   "source": [
    "import numpy as np # linear algebra\n",
    "import pandas as pd # data processing, CSV file I/O (e.g. pd.read_csv)\n",
    "\n",
    "import matplotlib.pyplot as plt\n",
    "import matplotlib.image as mpimg\n",
    "\n",
    "from sklearn.model_selection import train_test_split\n",
    "import os\n",
    "import random\n",
    "from PIL import Image"
   ]
  },
  {
   "cell_type": "code",
   "execution_count": 3,
   "id": "8a64f98d",
   "metadata": {
    "papermill": {
     "duration": 0.011145,
     "end_time": "2024-05-30T19:36:19.433827",
     "exception": false,
     "start_time": "2024-05-30T19:36:19.422682",
     "status": "completed"
    },
    "tags": []
   },
   "outputs": [],
   "source": [
    "diretorio_base= '/Users/anarpereira/Docs_tcc/TCC/MIND.FungaApp_COMPLETA/'"
   ]
  },
  {
   "cell_type": "markdown",
   "id": "1ab4ed8c",
   "metadata": {
    "papermill": {
     "duration": 0.002905,
     "end_time": "2024-05-30T19:36:19.440014",
     "exception": false,
     "start_time": "2024-05-30T19:36:19.437109",
     "status": "completed"
    },
    "tags": []
   },
   "source": [
    "## Conhecendo os dados\n",
    "\n",
    "A base de dados utilizada foi criada por pesquisa cidada, conjunto de pesquisadores e amadores, que observam e tiram fotos a fim de alimentar essa base de dados e ajudar os pesquisadores a catalogarem os fungos presentes no Brasil. O projeto possui um guia que ensina como os colaboradores do projeto precisam registrar as fotos, por isso, as fotos possuem boa qualidade, o mesmo fungo é fotografado de vários angulos. Essa fotos sao analisadas por especialistas que confirmam a especie do fungo ou nao, e so depois dessa triagem com os especialistas que as imagens sao adicionadas na base de dados.\n",
    "\n",
    "A base de dados utilizada possui 509 classes de fungos diferentes, porem 75% da base possui menos de 31 imagens.\n",
    "Apenas 22 classes possuem mais de 100 imagens, e sao essas \n"
   ]
  },
  {
   "cell_type": "code",
   "execution_count": 4,
   "id": "7ea91470",
   "metadata": {
    "papermill": {
     "duration": 2.835952,
     "end_time": "2024-05-30T19:36:22.279088",
     "exception": false,
     "start_time": "2024-05-30T19:36:19.443136",
     "status": "completed"
    },
    "tags": []
   },
   "outputs": [],
   "source": [
    "import os\n",
    "import pandas as pd\n",
    "\n",
    "datafiles_to_exclude = []\n",
    "datafiles_to_stay = []\n",
    "files_path_to_exclude = []\n",
    "foldes = []\n",
    "\n",
    "df = pd.DataFrame(columns=['qty_files', 'folder', 'file_paths'])  # Cria um DataFrame vazio com as colunas desejadas\n",
    "\n",
    "for pasta in os.listdir(diretorio_base):\n",
    "    caminho_pasta = os.path.join(diretorio_base, pasta)\n",
    "    if 'PRE_PROCESSING' not in caminho_pasta:\n",
    "        if os.path.isdir(caminho_pasta):\n",
    "            # Obtém os arquivos da pasta\n",
    "            arquivos = os.listdir(caminho_pasta)\n",
    "\n",
    "            files_path = [os.path.join(pasta, arquivo) for arquivo in arquivos if (('verde' not in arquivo) \n",
    "                                                                                   & ('branco' not in arquivo) \n",
    "                                                                                   & ('(1)' not in arquivo) \n",
    "                                                                                   & ('cópia' not in arquivo)\n",
    "                                                                                   & ('copia' not in arquivo)\n",
    "                                                                                   & ('Copia' not in arquivo)\n",
    "                                                                               )]\n",
    "\n",
    "            files_path_to_exclude = [os.path.join(pasta, arquivo) for arquivo in arquivos if (('verde' in arquivo) \n",
    "                                                                                   & ('branco' in arquivo) \n",
    "                                                                                   & ('(1)' in arquivo) \n",
    "                                                                                   & ('cópia' in arquivo)\n",
    "                                                                                   & ('copia' in arquivo)\n",
    "                                                                                   & ('Copia' in arquivo)\n",
    "                                                                                 )]\n",
    "\n",
    "            # Cria um DataFrame temporário com as informações da iteração atual\n",
    "            temp_df = pd.DataFrame({'qty_files': len(files_path), 'folder': pasta, 'file_paths': [files_path]}, index=[0])\n",
    "\n",
    "            # Concatena o DataFrame temporário com o DataFrame principal\n",
    "            df = pd.concat([df, temp_df], ignore_index=True)\n",
    "\n",
    "            foldes.append(pasta)\n",
    "            datafiles_to_stay.extend(files_path)\n",
    "\n",
    "            datafiles_to_exclude.extend(files_path_to_exclude)"
   ]
  },
  {
   "cell_type": "code",
   "execution_count": 5,
   "id": "f9fc5d41-e53f-448c-a6dd-fd60ccc6535c",
   "metadata": {},
   "outputs": [
    {
     "data": {
      "text/plain": [
       "(509, 3)"
      ]
     },
     "execution_count": 5,
     "metadata": {},
     "output_type": "execute_result"
    }
   ],
   "source": [
    "df.shape"
   ]
  },
  {
   "cell_type": "code",
   "execution_count": 13,
   "id": "e3d5cad3-a31f-4b27-a448-c6c9983a9bbe",
   "metadata": {},
   "outputs": [],
   "source": [
    "df[['folder','qty_files']].rename(columns={'folder':'Espécie', 'qty_files':'Qtd. Exemplos'}).sort_values(by='Espécie').to_csv('especies_full.csv')"
   ]
  },
  {
   "cell_type": "code",
   "execution_count": 13,
   "id": "cd576150-64bc-48e7-bfc5-2848235cfa9b",
   "metadata": {},
   "outputs": [],
   "source": [
    "df[['folder','qty_files']].sort_values(by='qty_files', ascending=False).to_csv('especies_full_qty.csv', index=False)"
   ]
  },
  {
   "cell_type": "code",
   "execution_count": 14,
   "id": "1ae23d75-cf6d-4969-9d5c-279fef4f1afc",
   "metadata": {},
   "outputs": [
    {
     "data": {
      "text/html": [
       "<div>\n",
       "<style scoped>\n",
       "    .dataframe tbody tr th:only-of-type {\n",
       "        vertical-align: middle;\n",
       "    }\n",
       "\n",
       "    .dataframe tbody tr th {\n",
       "        vertical-align: top;\n",
       "    }\n",
       "\n",
       "    .dataframe thead th {\n",
       "        text-align: right;\n",
       "    }\n",
       "</style>\n",
       "<table border=\"1\" class=\"dataframe\">\n",
       "  <thead>\n",
       "    <tr style=\"text-align: right;\">\n",
       "      <th></th>\n",
       "      <th>folder</th>\n",
       "      <th>qty_files</th>\n",
       "    </tr>\n",
       "  </thead>\n",
       "  <tbody>\n",
       "    <tr>\n",
       "      <th>0</th>\n",
       "      <td>Entolomatricholomatoideum</td>\n",
       "      <td>11</td>\n",
       "    </tr>\n",
       "    <tr>\n",
       "      <th>1</th>\n",
       "      <td>Favolusbrasiliensis</td>\n",
       "      <td>131</td>\n",
       "    </tr>\n",
       "    <tr>\n",
       "      <th>2</th>\n",
       "      <td>Cladoniarappii</td>\n",
       "      <td>1</td>\n",
       "    </tr>\n",
       "    <tr>\n",
       "      <th>3</th>\n",
       "      <td>Cystidiodontiacflaminifera</td>\n",
       "      <td>24</td>\n",
       "    </tr>\n",
       "    <tr>\n",
       "      <th>4</th>\n",
       "      <td>SebacinaTremellodendroncfschweinitzii</td>\n",
       "      <td>2</td>\n",
       "    </tr>\n",
       "    <tr>\n",
       "      <th>...</th>\n",
       "      <td>...</td>\n",
       "      <td>...</td>\n",
       "    </tr>\n",
       "    <tr>\n",
       "      <th>504</th>\n",
       "      <td>Hypotrachynapluriformis</td>\n",
       "      <td>14</td>\n",
       "    </tr>\n",
       "    <tr>\n",
       "      <th>505</th>\n",
       "      <td>Hypholomasp</td>\n",
       "      <td>4</td>\n",
       "    </tr>\n",
       "    <tr>\n",
       "      <th>506</th>\n",
       "      <td>Trogiacantharelloides</td>\n",
       "      <td>59</td>\n",
       "    </tr>\n",
       "    <tr>\n",
       "      <th>507</th>\n",
       "      <td>Panaeolusantillarum</td>\n",
       "      <td>28</td>\n",
       "    </tr>\n",
       "    <tr>\n",
       "      <th>508</th>\n",
       "      <td>Scytinopogonpallescens</td>\n",
       "      <td>8</td>\n",
       "    </tr>\n",
       "  </tbody>\n",
       "</table>\n",
       "<p>509 rows × 2 columns</p>\n",
       "</div>"
      ],
      "text/plain": [
       "                                    folder qty_files\n",
       "0                Entolomatricholomatoideum        11\n",
       "1                      Favolusbrasiliensis       131\n",
       "2                           Cladoniarappii         1\n",
       "3               Cystidiodontiacflaminifera        24\n",
       "4    SebacinaTremellodendroncfschweinitzii         2\n",
       "..                                     ...       ...\n",
       "504                Hypotrachynapluriformis        14\n",
       "505                            Hypholomasp         4\n",
       "506                  Trogiacantharelloides        59\n",
       "507                    Panaeolusantillarum        28\n",
       "508                 Scytinopogonpallescens         8\n",
       "\n",
       "[509 rows x 2 columns]"
      ]
     },
     "execution_count": 14,
     "metadata": {},
     "output_type": "execute_result"
    }
   ],
   "source": [
    "df[['folder','qty_files']]"
   ]
  },
  {
   "cell_type": "code",
   "execution_count": 7,
   "id": "2b5cdf96-ef92-447c-80b9-7fbe482d2a00",
   "metadata": {},
   "outputs": [],
   "source": [
    "# import shutil\n",
    "# for i in foldes:\n",
    "#     shutil.rmtree(diretorio_base + i)"
   ]
  },
  {
   "cell_type": "code",
   "execution_count": 9,
   "id": "0ad86a86-8791-4b7d-bad4-298cdf84f4e8",
   "metadata": {},
   "outputs": [],
   "source": [
    "for f in os.listdir(diretorio_base):\n",
    "    r = f.replace(\" \",\"\")\n",
    "    if( r != f):\n",
    "        os.rename(diretorio_base + f,diretorio_base + r)"
   ]
  },
  {
   "cell_type": "code",
   "execution_count": 10,
   "id": "ef2133b4-b425-4f22-bfe9-1f0aeeb69a1d",
   "metadata": {},
   "outputs": [],
   "source": [
    "for i in os.listdir(diretorio_base):\n",
    "    if '.DS_Store' not in i:\n",
    "        for j in os.listdir(diretorio_base + i):\n",
    "            r = j.replace(\" \",\"\")\n",
    "            if( r != f):\n",
    "                os.rename(diretorio_base + i + '/' + j, diretorio_base + i + '/' + r)"
   ]
  },
  {
   "cell_type": "code",
   "execution_count": 11,
   "id": "6552f305-441c-4079-9393-155a661155bf",
   "metadata": {
    "scrolled": true
   },
   "outputs": [],
   "source": [
    "datafiles_to_exclude_backspace = [i.replace(' ','') for i in datafiles_to_exclude]"
   ]
  },
  {
   "cell_type": "code",
   "execution_count": 12,
   "id": "2d9294d5-a677-430d-bd77-fff9e410dd4e",
   "metadata": {},
   "outputs": [],
   "source": [
    "for i in datafiles_to_exclude_backspace:\n",
    "    # Check if the file exists before attempting to delete it\n",
    "    if os.path.exists(diretorio_base+i):\n",
    "        os.remove(diretorio_base+i)\n",
    "        print(f\"The file {diretorio_base+i} has been deleted.\")\n",
    "    else:\n",
    "        print(f\"The file {diretorio_base+i} does not exist.\")"
   ]
  },
  {
   "cell_type": "code",
   "execution_count": 13,
   "id": "529e2091-89bc-47a5-aeb0-26c9ebfd0ea4",
   "metadata": {},
   "outputs": [
    {
     "data": {
      "text/plain": [
       "(509, 3)"
      ]
     },
     "execution_count": 13,
     "metadata": {},
     "output_type": "execute_result"
    }
   ],
   "source": [
    "df.shape"
   ]
  },
  {
   "cell_type": "code",
   "execution_count": 14,
   "id": "2a664970-9c78-4cdc-9ef2-92f7293d3a58",
   "metadata": {},
   "outputs": [],
   "source": [
    "df['qty_files'] = df['qty_files'].astype(int)"
   ]
  },
  {
   "cell_type": "markdown",
   "id": "6924e026-3dde-4b24-9a9a-06fea8bf9576",
   "metadata": {},
   "source": [
    "### Pegando as 10 classes que mais possuem imagens, essas serao as classes utilizadas "
   ]
  },
  {
   "cell_type": "code",
   "execution_count": 18,
   "id": "ac8c0c9f-8b9b-4fe5-8e1a-27388ac10c75",
   "metadata": {},
   "outputs": [
    {
     "data": {
      "text/html": [
       "<div>\n",
       "<style scoped>\n",
       "    .dataframe tbody tr th:only-of-type {\n",
       "        vertical-align: middle;\n",
       "    }\n",
       "\n",
       "    .dataframe tbody tr th {\n",
       "        vertical-align: top;\n",
       "    }\n",
       "\n",
       "    .dataframe thead th {\n",
       "        text-align: right;\n",
       "    }\n",
       "</style>\n",
       "<table border=\"1\" class=\"dataframe\">\n",
       "  <thead>\n",
       "    <tr style=\"text-align: right;\">\n",
       "      <th></th>\n",
       "      <th>qty_files</th>\n",
       "      <th>folder</th>\n",
       "      <th>file_paths</th>\n",
       "    </tr>\n",
       "  </thead>\n",
       "  <tbody>\n",
       "    <tr>\n",
       "      <th>356</th>\n",
       "      <td>358</td>\n",
       "      <td>Marasmiusamazonicus</td>\n",
       "      <td>[Marasmiusamazonicus/SSP1118142_11_1_2018_Para...</td>\n",
       "    </tr>\n",
       "    <tr>\n",
       "      <th>197</th>\n",
       "      <td>347</td>\n",
       "      <td>Cookeinatricholoma</td>\n",
       "      <td>[Cookeinatricholoma/CCMINDFunga-211211114927Co...</td>\n",
       "    </tr>\n",
       "    <tr>\n",
       "      <th>126</th>\n",
       "      <td>326</td>\n",
       "      <td>Phallusindusiatuscomplex</td>\n",
       "      <td>[Phallusindusiatuscomplex/SusanneSourell2014Pa...</td>\n",
       "    </tr>\n",
       "    <tr>\n",
       "      <th>394</th>\n",
       "      <td>223</td>\n",
       "      <td>Schizophyllumcommune</td>\n",
       "      <td>[Schizophyllumcommune/FKnc2016-DSCN2298(10)Q(5...</td>\n",
       "    </tr>\n",
       "    <tr>\n",
       "      <th>349</th>\n",
       "      <td>198</td>\n",
       "      <td>Coprinellusdisseminatus</td>\n",
       "      <td>[Coprinellusdisseminatus/SSCoprinellus-dissemi...</td>\n",
       "    </tr>\n",
       "    <tr>\n",
       "      <th>493</th>\n",
       "      <td>197</td>\n",
       "      <td>Cyathussp</td>\n",
       "      <td>[Cyathussp/SusanneSourell2014Pantanal(1504).jp...</td>\n",
       "    </tr>\n",
       "    <tr>\n",
       "      <th>386</th>\n",
       "      <td>193</td>\n",
       "      <td>Oudemansiellacubensis</td>\n",
       "      <td>[Oudemansiellacubensis/00-SSP1152124_15_1_2018...</td>\n",
       "    </tr>\n",
       "    <tr>\n",
       "      <th>7</th>\n",
       "      <td>178</td>\n",
       "      <td>Pycnoporussanguineus</td>\n",
       "      <td>[Pycnoporussanguineus/MIND0117(9).jpg, Pycnopo...</td>\n",
       "    </tr>\n",
       "    <tr>\n",
       "      <th>24</th>\n",
       "      <td>173</td>\n",
       "      <td>Marasmiusgriseoradiatus</td>\n",
       "      <td>[Marasmiusgriseoradiatus/SSMarasmius-sp-BAS-BR...</td>\n",
       "    </tr>\n",
       "    <tr>\n",
       "      <th>1</th>\n",
       "      <td>135</td>\n",
       "      <td>Favolusbrasiliensis</td>\n",
       "      <td>[Favolusbrasiliensis/SSPolyporales_Favolus_ten...</td>\n",
       "    </tr>\n",
       "  </tbody>\n",
       "</table>\n",
       "</div>"
      ],
      "text/plain": [
       "     qty_files                    folder  \\\n",
       "356        358       Marasmiusamazonicus   \n",
       "197        347        Cookeinatricholoma   \n",
       "126        326  Phallusindusiatuscomplex   \n",
       "394        223      Schizophyllumcommune   \n",
       "349        198   Coprinellusdisseminatus   \n",
       "493        197                 Cyathussp   \n",
       "386        193     Oudemansiellacubensis   \n",
       "7          178      Pycnoporussanguineus   \n",
       "24         173   Marasmiusgriseoradiatus   \n",
       "1          135       Favolusbrasiliensis   \n",
       "\n",
       "                                            file_paths  \n",
       "356  [Marasmiusamazonicus/SSP1118142_11_1_2018_Para...  \n",
       "197  [Cookeinatricholoma/CCMINDFunga-211211114927Co...  \n",
       "126  [Phallusindusiatuscomplex/SusanneSourell2014Pa...  \n",
       "394  [Schizophyllumcommune/FKnc2016-DSCN2298(10)Q(5...  \n",
       "349  [Coprinellusdisseminatus/SSCoprinellus-dissemi...  \n",
       "493  [Cyathussp/SusanneSourell2014Pantanal(1504).jp...  \n",
       "386  [Oudemansiellacubensis/00-SSP1152124_15_1_2018...  \n",
       "7    [Pycnoporussanguineus/MIND0117(9).jpg, Pycnopo...  \n",
       "24   [Marasmiusgriseoradiatus/SSMarasmius-sp-BAS-BR...  \n",
       "1    [Favolusbrasiliensis/SSPolyporales_Favolus_ten...  "
      ]
     },
     "execution_count": 18,
     "metadata": {},
     "output_type": "execute_result"
    }
   ],
   "source": [
    "df.sort_values(by='qty_files', ascending=False)[:10]"
   ]
  },
  {
   "cell_type": "code",
   "execution_count": 19,
   "id": "58f3e104-1057-45e1-84c6-1197efe97175",
   "metadata": {},
   "outputs": [
    {
     "data": {
      "text/html": [
       "<div>\n",
       "<style scoped>\n",
       "    .dataframe tbody tr th:only-of-type {\n",
       "        vertical-align: middle;\n",
       "    }\n",
       "\n",
       "    .dataframe tbody tr th {\n",
       "        vertical-align: top;\n",
       "    }\n",
       "\n",
       "    .dataframe thead th {\n",
       "        text-align: right;\n",
       "    }\n",
       "</style>\n",
       "<table border=\"1\" class=\"dataframe\">\n",
       "  <thead>\n",
       "    <tr style=\"text-align: right;\">\n",
       "      <th></th>\n",
       "      <th>qty_files</th>\n",
       "      <th>folder</th>\n",
       "      <th>file_paths</th>\n",
       "    </tr>\n",
       "  </thead>\n",
       "  <tbody>\n",
       "    <tr>\n",
       "      <th>126</th>\n",
       "      <td>326</td>\n",
       "      <td>Phallusindusiatuscomplex</td>\n",
       "      <td>[Phallusindusiatuscomplex/SusanneSourell2014Pa...</td>\n",
       "    </tr>\n",
       "    <tr>\n",
       "      <th>197</th>\n",
       "      <td>347</td>\n",
       "      <td>Cookeinatricholoma</td>\n",
       "      <td>[Cookeinatricholoma/CCMINDFunga-211211114927Co...</td>\n",
       "    </tr>\n",
       "    <tr>\n",
       "      <th>356</th>\n",
       "      <td>358</td>\n",
       "      <td>Marasmiusamazonicus</td>\n",
       "      <td>[Marasmiusamazonicus/SSP1118142_11_1_2018_Para...</td>\n",
       "    </tr>\n",
       "    <tr>\n",
       "      <th>394</th>\n",
       "      <td>223</td>\n",
       "      <td>Schizophyllumcommune</td>\n",
       "      <td>[Schizophyllumcommune/FKnc2016-DSCN2298(10)Q(5...</td>\n",
       "    </tr>\n",
       "  </tbody>\n",
       "</table>\n",
       "</div>"
      ],
      "text/plain": [
       "     qty_files                    folder  \\\n",
       "126        326  Phallusindusiatuscomplex   \n",
       "197        347        Cookeinatricholoma   \n",
       "356        358       Marasmiusamazonicus   \n",
       "394        223      Schizophyllumcommune   \n",
       "\n",
       "                                            file_paths  \n",
       "126  [Phallusindusiatuscomplex/SusanneSourell2014Pa...  \n",
       "197  [Cookeinatricholoma/CCMINDFunga-211211114927Co...  \n",
       "356  [Marasmiusamazonicus/SSP1118142_11_1_2018_Para...  \n",
       "394  [Schizophyllumcommune/FKnc2016-DSCN2298(10)Q(5...  "
      ]
     },
     "execution_count": 19,
     "metadata": {},
     "output_type": "execute_result"
    }
   ],
   "source": [
    "df[df['qty_files']>200]"
   ]
  },
  {
   "cell_type": "code",
   "execution_count": 20,
   "id": "df562277-1002-4c63-ae65-c182029ba645",
   "metadata": {},
   "outputs": [
    {
     "data": {
      "text/html": [
       "<div>\n",
       "<style scoped>\n",
       "    .dataframe tbody tr th:only-of-type {\n",
       "        vertical-align: middle;\n",
       "    }\n",
       "\n",
       "    .dataframe tbody tr th {\n",
       "        vertical-align: top;\n",
       "    }\n",
       "\n",
       "    .dataframe thead th {\n",
       "        text-align: right;\n",
       "    }\n",
       "</style>\n",
       "<table border=\"1\" class=\"dataframe\">\n",
       "  <thead>\n",
       "    <tr style=\"text-align: right;\">\n",
       "      <th></th>\n",
       "      <th>qty_files</th>\n",
       "      <th>folder</th>\n",
       "      <th>file_paths</th>\n",
       "    </tr>\n",
       "  </thead>\n",
       "  <tbody>\n",
       "    <tr>\n",
       "      <th>0</th>\n",
       "      <td>11</td>\n",
       "      <td>Entolomatricholomatoideum</td>\n",
       "      <td>[Entolomatricholomatoideum/LUARSnumeroFK1049(2...</td>\n",
       "    </tr>\n",
       "    <tr>\n",
       "      <th>1</th>\n",
       "      <td>135</td>\n",
       "      <td>Favolusbrasiliensis</td>\n",
       "      <td>[Favolusbrasiliensis/SSPolyporales_Favolus_ten...</td>\n",
       "    </tr>\n",
       "    <tr>\n",
       "      <th>2</th>\n",
       "      <td>1</td>\n",
       "      <td>Cladoniarappii</td>\n",
       "      <td>[Cladoniarappii/Cladoniarappii_SBUru(653)Emers...</td>\n",
       "    </tr>\n",
       "    <tr>\n",
       "      <th>3</th>\n",
       "      <td>24</td>\n",
       "      <td>Cystidiodontiacflaminifera</td>\n",
       "      <td>[Cystidiodontiacflaminifera/MIND0444(21)(quadr...</td>\n",
       "    </tr>\n",
       "    <tr>\n",
       "      <th>4</th>\n",
       "      <td>2</td>\n",
       "      <td>SebacinaTremellodendroncfschweinitzii</td>\n",
       "      <td>[SebacinaTremellodendroncfschweinitzii/02-SSTr...</td>\n",
       "    </tr>\n",
       "  </tbody>\n",
       "</table>\n",
       "</div>"
      ],
      "text/plain": [
       "   qty_files                                 folder  \\\n",
       "0         11              Entolomatricholomatoideum   \n",
       "1        135                    Favolusbrasiliensis   \n",
       "2          1                         Cladoniarappii   \n",
       "3         24             Cystidiodontiacflaminifera   \n",
       "4          2  SebacinaTremellodendroncfschweinitzii   \n",
       "\n",
       "                                          file_paths  \n",
       "0  [Entolomatricholomatoideum/LUARSnumeroFK1049(2...  \n",
       "1  [Favolusbrasiliensis/SSPolyporales_Favolus_ten...  \n",
       "2  [Cladoniarappii/Cladoniarappii_SBUru(653)Emers...  \n",
       "3  [Cystidiodontiacflaminifera/MIND0444(21)(quadr...  \n",
       "4  [SebacinaTremellodendroncfschweinitzii/02-SSTr...  "
      ]
     },
     "execution_count": 20,
     "metadata": {},
     "output_type": "execute_result"
    }
   ],
   "source": [
    "df.head()"
   ]
  },
  {
   "cell_type": "code",
   "execution_count": 22,
   "id": "f8f2e699-220c-4604-93e8-75c50ddf0c2e",
   "metadata": {},
   "outputs": [
    {
     "data": {
      "text/plain": [
       "count    509.000000\n",
       "mean      26.646365\n",
       "std       39.790701\n",
       "min        0.000000\n",
       "25%        6.000000\n",
       "50%       14.000000\n",
       "75%       31.000000\n",
       "max      358.000000\n",
       "Name: qty_files, dtype: float64"
      ]
     },
     "execution_count": 22,
     "metadata": {},
     "output_type": "execute_result"
    }
   ],
   "source": [
    "df['qty_files'].describe()"
   ]
  },
  {
   "cell_type": "code",
   "execution_count": 23,
   "id": "b3b43e7d-2a45-4f9a-a4bd-536e9e59a0ff",
   "metadata": {},
   "outputs": [
    {
     "data": {
      "text/html": [
       "<div>\n",
       "<style scoped>\n",
       "    .dataframe tbody tr th:only-of-type {\n",
       "        vertical-align: middle;\n",
       "    }\n",
       "\n",
       "    .dataframe tbody tr th {\n",
       "        vertical-align: top;\n",
       "    }\n",
       "\n",
       "    .dataframe thead th {\n",
       "        text-align: right;\n",
       "    }\n",
       "</style>\n",
       "<table border=\"1\" class=\"dataframe\">\n",
       "  <thead>\n",
       "    <tr style=\"text-align: right;\">\n",
       "      <th></th>\n",
       "      <th>qty_files</th>\n",
       "      <th>folder</th>\n",
       "      <th>file_paths</th>\n",
       "    </tr>\n",
       "  </thead>\n",
       "  <tbody>\n",
       "    <tr>\n",
       "      <th>1</th>\n",
       "      <td>135</td>\n",
       "      <td>Favolusbrasiliensis</td>\n",
       "      <td>[Favolusbrasiliensis/SSPolyporales_Favolus_ten...</td>\n",
       "    </tr>\n",
       "    <tr>\n",
       "      <th>7</th>\n",
       "      <td>178</td>\n",
       "      <td>Pycnoporussanguineus</td>\n",
       "      <td>[Pycnoporussanguineus/MIND0117(9).jpg, Pycnopo...</td>\n",
       "    </tr>\n",
       "    <tr>\n",
       "      <th>8</th>\n",
       "      <td>110</td>\n",
       "      <td>Hydropusnigrita</td>\n",
       "      <td>[Hydropusnigrita/SSP1118128_11_1_2018_Paranut_...</td>\n",
       "    </tr>\n",
       "    <tr>\n",
       "      <th>24</th>\n",
       "      <td>173</td>\n",
       "      <td>Marasmiusgriseoradiatus</td>\n",
       "      <td>[Marasmiusgriseoradiatus/SSMarasmius-sp-BAS-BR...</td>\n",
       "    </tr>\n",
       "    <tr>\n",
       "      <th>58</th>\n",
       "      <td>134</td>\n",
       "      <td>Phillipsiadomingensis</td>\n",
       "      <td>[Phillipsiadomingensis/SSASC_Phillipsia_doming...</td>\n",
       "    </tr>\n",
       "    <tr>\n",
       "      <th>64</th>\n",
       "      <td>124</td>\n",
       "      <td>Cookeinaspeciosa</td>\n",
       "      <td>[Cookeinaspeciosa/FK1838(5)2-WnT2HY.jpg, Cooke...</td>\n",
       "    </tr>\n",
       "    <tr>\n",
       "      <th>126</th>\n",
       "      <td>326</td>\n",
       "      <td>Phallusindusiatuscomplex</td>\n",
       "      <td>[Phallusindusiatuscomplex/SusanneSourell2014Pa...</td>\n",
       "    </tr>\n",
       "    <tr>\n",
       "      <th>135</th>\n",
       "      <td>131</td>\n",
       "      <td>Tetrapyrgosalba</td>\n",
       "      <td>[Tetrapyrgosalba/00-SSCampanella-sp-BAS-BR-CJL...</td>\n",
       "    </tr>\n",
       "    <tr>\n",
       "      <th>138</th>\n",
       "      <td>134</td>\n",
       "      <td>Auriculariafuscosuccinea</td>\n",
       "      <td>[Auriculariafuscosuccinea/SSP1041628_4_1_2018_...</td>\n",
       "    </tr>\n",
       "    <tr>\n",
       "      <th>193</th>\n",
       "      <td>121</td>\n",
       "      <td>Leucocoprinusbrunneoluteus</td>\n",
       "      <td>[Leucocoprinusbrunneoluteus/SSLeucocoprinus_br...</td>\n",
       "    </tr>\n",
       "    <tr>\n",
       "      <th>197</th>\n",
       "      <td>347</td>\n",
       "      <td>Cookeinatricholoma</td>\n",
       "      <td>[Cookeinatricholoma/CCMINDFunga-211211114927Co...</td>\n",
       "    </tr>\n",
       "    <tr>\n",
       "      <th>315</th>\n",
       "      <td>130</td>\n",
       "      <td>Marasmiustageticolor</td>\n",
       "      <td>[Marasmiustageticolor/SSMarasmius_tageticolor_...</td>\n",
       "    </tr>\n",
       "    <tr>\n",
       "      <th>349</th>\n",
       "      <td>198</td>\n",
       "      <td>Coprinellusdisseminatus</td>\n",
       "      <td>[Coprinellusdisseminatus/SSCoprinellus-dissemi...</td>\n",
       "    </tr>\n",
       "    <tr>\n",
       "      <th>356</th>\n",
       "      <td>358</td>\n",
       "      <td>Marasmiusamazonicus</td>\n",
       "      <td>[Marasmiusamazonicus/SSP1118142_11_1_2018_Para...</td>\n",
       "    </tr>\n",
       "    <tr>\n",
       "      <th>367</th>\n",
       "      <td>104</td>\n",
       "      <td>Brunneocorticiumcorynecarpon</td>\n",
       "      <td>[Brunneocorticiumcorynecarpon/SSP1064314_6_1_2...</td>\n",
       "    </tr>\n",
       "    <tr>\n",
       "      <th>386</th>\n",
       "      <td>193</td>\n",
       "      <td>Oudemansiellacubensis</td>\n",
       "      <td>[Oudemansiellacubensis/00-SSP1152124_15_1_2018...</td>\n",
       "    </tr>\n",
       "    <tr>\n",
       "      <th>394</th>\n",
       "      <td>223</td>\n",
       "      <td>Schizophyllumcommune</td>\n",
       "      <td>[Schizophyllumcommune/FKnc2016-DSCN2298(10)Q(5...</td>\n",
       "    </tr>\n",
       "    <tr>\n",
       "      <th>434</th>\n",
       "      <td>110</td>\n",
       "      <td>EncoeliaheteromeraCF</td>\n",
       "      <td>[EncoeliaheteromeraCF/SSASC_Encoelia_heteromer...</td>\n",
       "    </tr>\n",
       "    <tr>\n",
       "      <th>446</th>\n",
       "      <td>103</td>\n",
       "      <td>Geastrumpectinatum</td>\n",
       "      <td>[Geastrumpectinatum/SSGasteromycetes_Geatrum_s...</td>\n",
       "    </tr>\n",
       "    <tr>\n",
       "      <th>481</th>\n",
       "      <td>124</td>\n",
       "      <td>Pleurotusdjamor</td>\n",
       "      <td>[Pleurotusdjamor/NMJPleurotusdjamor_NMJ387_PNS...</td>\n",
       "    </tr>\n",
       "    <tr>\n",
       "      <th>493</th>\n",
       "      <td>197</td>\n",
       "      <td>Cyathussp</td>\n",
       "      <td>[Cyathussp/SusanneSourell2014Pantanal(1504).jp...</td>\n",
       "    </tr>\n",
       "    <tr>\n",
       "      <th>497</th>\n",
       "      <td>110</td>\n",
       "      <td>Hygrocybetrinitensiscomplexo</td>\n",
       "      <td>[Hygrocybetrinitensiscomplexo/SSVoucher_627_Hy...</td>\n",
       "    </tr>\n",
       "  </tbody>\n",
       "</table>\n",
       "</div>"
      ],
      "text/plain": [
       "     qty_files                        folder  \\\n",
       "1          135           Favolusbrasiliensis   \n",
       "7          178          Pycnoporussanguineus   \n",
       "8          110               Hydropusnigrita   \n",
       "24         173       Marasmiusgriseoradiatus   \n",
       "58         134         Phillipsiadomingensis   \n",
       "64         124              Cookeinaspeciosa   \n",
       "126        326      Phallusindusiatuscomplex   \n",
       "135        131               Tetrapyrgosalba   \n",
       "138        134      Auriculariafuscosuccinea   \n",
       "193        121    Leucocoprinusbrunneoluteus   \n",
       "197        347            Cookeinatricholoma   \n",
       "315        130          Marasmiustageticolor   \n",
       "349        198       Coprinellusdisseminatus   \n",
       "356        358           Marasmiusamazonicus   \n",
       "367        104  Brunneocorticiumcorynecarpon   \n",
       "386        193         Oudemansiellacubensis   \n",
       "394        223          Schizophyllumcommune   \n",
       "434        110          EncoeliaheteromeraCF   \n",
       "446        103            Geastrumpectinatum   \n",
       "481        124               Pleurotusdjamor   \n",
       "493        197                     Cyathussp   \n",
       "497        110  Hygrocybetrinitensiscomplexo   \n",
       "\n",
       "                                            file_paths  \n",
       "1    [Favolusbrasiliensis/SSPolyporales_Favolus_ten...  \n",
       "7    [Pycnoporussanguineus/MIND0117(9).jpg, Pycnopo...  \n",
       "8    [Hydropusnigrita/SSP1118128_11_1_2018_Paranut_...  \n",
       "24   [Marasmiusgriseoradiatus/SSMarasmius-sp-BAS-BR...  \n",
       "58   [Phillipsiadomingensis/SSASC_Phillipsia_doming...  \n",
       "64   [Cookeinaspeciosa/FK1838(5)2-WnT2HY.jpg, Cooke...  \n",
       "126  [Phallusindusiatuscomplex/SusanneSourell2014Pa...  \n",
       "135  [Tetrapyrgosalba/00-SSCampanella-sp-BAS-BR-CJL...  \n",
       "138  [Auriculariafuscosuccinea/SSP1041628_4_1_2018_...  \n",
       "193  [Leucocoprinusbrunneoluteus/SSLeucocoprinus_br...  \n",
       "197  [Cookeinatricholoma/CCMINDFunga-211211114927Co...  \n",
       "315  [Marasmiustageticolor/SSMarasmius_tageticolor_...  \n",
       "349  [Coprinellusdisseminatus/SSCoprinellus-dissemi...  \n",
       "356  [Marasmiusamazonicus/SSP1118142_11_1_2018_Para...  \n",
       "367  [Brunneocorticiumcorynecarpon/SSP1064314_6_1_2...  \n",
       "386  [Oudemansiellacubensis/00-SSP1152124_15_1_2018...  \n",
       "394  [Schizophyllumcommune/FKnc2016-DSCN2298(10)Q(5...  \n",
       "434  [EncoeliaheteromeraCF/SSASC_Encoelia_heteromer...  \n",
       "446  [Geastrumpectinatum/SSGasteromycetes_Geatrum_s...  \n",
       "481  [Pleurotusdjamor/NMJPleurotusdjamor_NMJ387_PNS...  \n",
       "493  [Cyathussp/SusanneSourell2014Pantanal(1504).jp...  \n",
       "497  [Hygrocybetrinitensiscomplexo/SSVoucher_627_Hy...  "
      ]
     },
     "execution_count": 23,
     "metadata": {},
     "output_type": "execute_result"
    }
   ],
   "source": [
    "df[df['qty_files']>100]"
   ]
  },
  {
   "cell_type": "code",
   "execution_count": 24,
   "id": "43f18529",
   "metadata": {
    "papermill": {
     "duration": 0.012607,
     "end_time": "2024-05-30T19:36:22.318171",
     "exception": false,
     "start_time": "2024-05-30T19:36:22.305564",
     "status": "completed"
    },
    "tags": []
   },
   "outputs": [],
   "source": [
    "altura_largura = []"
   ]
  },
  {
   "cell_type": "code",
   "execution_count": 25,
   "id": "724c4b72-78d3-4aac-a657-4a5c3b1216f5",
   "metadata": {},
   "outputs": [],
   "source": [
    "datafiles_to_stay_backspace = [i.replace(' ','') for i in datafiles_to_stay]"
   ]
  },
  {
   "cell_type": "code",
   "execution_count": 26,
   "id": "2498b526-45ad-4631-a0a3-3d79a50d6cf9",
   "metadata": {
    "tags": []
   },
   "outputs": [
    {
     "name": "stderr",
     "output_type": "stream",
     "text": [
      "\n",
      "KeyboardInterrupt\n",
      "\n"
     ]
    },
    {
     "name": "stdout",
     "output_type": "stream",
     "text": [
      "Error in callback <function flush_figures at 0x7f84747bf760> (for post_execute), with arguments args (),kwargs {}:\n"
     ]
    },
    {
     "name": "stderr",
     "output_type": "stream",
     "text": [
      "\n",
      "KeyboardInterrupt\n",
      "\n"
     ]
    }
   ],
   "source": [
    "num_images_per_class = 4\n",
    "\n",
    "for row_idx, (folder, file_paths) in enumerate(zip(df['folder'], df['file_paths'])):\n",
    "    count = 0\n",
    "    fig, axes = plt.subplots(nrows=1, ncols=num_images_per_class, figsize=(15, 10))\n",
    "\n",
    "    for col_idx, file_path in enumerate(file_paths):\n",
    "        try:\n",
    "            if count < num_images_per_class:\n",
    "                img_path = os.path.join(diretorio_base, file_path)\n",
    "                imagem = mpimg.imread(img_path)\n",
    "                axes[col_idx].imshow(imagem)\n",
    "                count += 1\n",
    "            else:\n",
    "                plt.savefig(f'figure_{folder}.jpg', format='jpg')\n",
    "        except IndexError:\n",
    "            axes[col_idx].axis('off')  # Desativa o eixo se não houver imagem\n",
    "            axes[col_idx].set_frame_on(False)  # Remove o quadro em torno do subplot\n",
    "            print('IndexError', row_idx, col_idx)\n",
    "        except IsADirectoryError:\n",
    "            print('IsADirectoryError')\n",
    "        \n",
    "    # Set the class label as the title for the first image in the row\n",
    "\n",
    "plt.tight_layout()\n",
    "plt.show()"
   ]
  },
  {
   "cell_type": "code",
   "execution_count": null,
   "id": "f92d9da5-13ff-4eb7-9b5b-b46b085ab41d",
   "metadata": {},
   "outputs": [],
   "source": [
    "files = []\n",
    "foldes = []\n",
    "\n",
    "df = pd.DataFrame(columns=['qty_files', 'folder', 'file_paths'])  # Cria um DataFrame vazio com as colunas desejadas\n",
    "\n",
    "for pasta in os.listdir(diretorio_base):\n",
    "    caminho_pasta = os.path.join(diretorio_base, pasta)\n",
    "    if os.path.isdir(caminho_pasta):\n",
    "        # Obtém os arquivos da pasta\n",
    "        arquivos = os.listdir(caminho_pasta)\n",
    "        \n",
    "        files_path = [os.path.join(pasta, arquivo) for arquivo in arquivos]\n",
    "\n",
    "        # Cria um DataFrame temporário com as informações da iteração atual\n",
    "        temp_df = pd.DataFrame({'qty_files': len(files_path), 'folder': pasta, 'file_paths': [files_path]}, index=[0])\n",
    "        \n",
    "        # Concatena o DataFrame temporário com o DataFrame principal\n",
    "        df = pd.concat([df, temp_df], ignore_index=True)\n",
    "        files.extend(files_path)"
   ]
  },
  {
   "cell_type": "code",
   "execution_count": null,
   "id": "96da7f4b-61ba-4875-b5a1-e61c0a86c0e1",
   "metadata": {},
   "outputs": [],
   "source": [
    "df.shape"
   ]
  },
  {
   "cell_type": "code",
   "execution_count": 51,
   "id": "918499e8-7610-4afd-b078-0a1e07536572",
   "metadata": {},
   "outputs": [
    {
     "data": {
      "text/plain": [
       "count    509.000000\n",
       "mean      35.385069\n",
       "std       54.193996\n",
       "min        1.000000\n",
       "25%        8.000000\n",
       "50%       20.000000\n",
       "75%       41.000000\n",
       "max      714.000000\n",
       "Name: qty_files, dtype: float64"
      ]
     },
     "execution_count": 51,
     "metadata": {},
     "output_type": "execute_result"
    }
   ],
   "source": [
    "df['qty_files'].astype(int).describe()"
   ]
  },
  {
   "cell_type": "code",
   "execution_count": 52,
   "id": "0dc822d4-ea2f-4e47-b5d2-8fefd036007c",
   "metadata": {},
   "outputs": [
    {
     "data": {
      "text/plain": [
       "(33, 3)"
      ]
     },
     "execution_count": 52,
     "metadata": {},
     "output_type": "execute_result"
    }
   ],
   "source": [
    "df[df['qty_files']>100].shape"
   ]
  },
  {
   "cell_type": "markdown",
   "id": "a4265f41-8940-4660-85b4-9a4087f389d7",
   "metadata": {
    "papermill": {
     "duration": 0.0527,
     "end_time": "2024-05-30T19:36:26.628539",
     "exception": false,
     "start_time": "2024-05-30T19:36:26.575839",
     "status": "completed"
    },
    "tags": []
   },
   "source": [
    "### Dimensoes das imagens\n",
    "\n",
    "Todas as imagens do dataset tem 1000px por 1000\n",
    "\n",
    "Vamos redimensionar para 224x224"
   ]
  },
  {
   "cell_type": "code",
   "execution_count": 35,
   "id": "8eafa764-6a2f-4a4c-97cc-b990f5bbd1b7",
   "metadata": {
    "papermill": {
     "duration": 0.407495,
     "end_time": "2024-05-30T19:36:27.088563",
     "exception": true,
     "start_time": "2024-05-30T19:36:26.681068",
     "status": "failed"
    },
    "tags": []
   },
   "outputs": [],
   "source": [
    "files_out_default = []\n",
    "for caminho_completo in files:\n",
    "    if '.ipynb' not in caminho_completo:\n",
    "        with open(diretorio_base + caminho_completo, 'rb') as arquivo_imagem:\n",
    "            altura, largura = Image.open(diretorio_base + caminho_completo).size\n",
    "            if altura != 1000 or largura != 1000:\n",
    "                files_out_default.append(diretorio_base + caminho_completo)"
   ]
  },
  {
   "cell_type": "code",
   "execution_count": 36,
   "id": "2485030b-072f-46f7-85bd-1b097bfb58a5",
   "metadata": {},
   "outputs": [
    {
     "data": {
      "text/plain": [
       "[]"
      ]
     },
     "execution_count": 36,
     "metadata": {},
     "output_type": "execute_result"
    }
   ],
   "source": [
    "files_out_default"
   ]
  },
  {
   "cell_type": "code",
   "execution_count": 39,
   "id": "7863abb2-fffa-4e05-b69c-27f324ccfc7c",
   "metadata": {},
   "outputs": [],
   "source": [
    "for pasta in os.listdir(diretorio_base):\n",
    "    if '.ipynb' not in pasta and '.DS_' not in pasta:\n",
    "        if os.path.isdir(diretorio_base + pasta):\n",
    "            new_directory = os.path.join(diretorio_base, pasta + '_PRE_PROCESSING')\n",
    "            if not os.path.exists(new_directory):\n",
    "                os.makedirs(new_directory, exist_ok=True) \n",
    "                \n",
    "                for file, count in zip(os.listdir(diretorio_base + pasta), range(0, len(os.listdir(diretorio_base+pasta)))):\n",
    "                    if '.jpg' in file:\n",
    "                        img = Image.open(os.path.join(diretorio_base, pasta, file))\n",
    "                        resized = img.resize((224, 224))\n",
    "                        resized.save(os.path.join(new_directory, pasta.lower() + f'_{count}.jpg'))        "
   ]
  }
 ],
 "metadata": {
  "kaggle": {
   "accelerator": "none",
   "dataSources": [
    {
     "datasetId": 5116531,
     "sourceId": 8560230,
     "sourceType": "datasetVersion"
    }
   ],
   "dockerImageVersionId": 30698,
   "isGpuEnabled": false,
   "isInternetEnabled": true,
   "language": "python",
   "sourceType": "notebook"
  },
  "kernelspec": {
   "display_name": "tcc",
   "language": "python",
   "name": "tcc"
  },
  "language_info": {
   "codemirror_mode": {
    "name": "ipython",
    "version": 3
   },
   "file_extension": ".py",
   "mimetype": "text/x-python",
   "name": "python",
   "nbconvert_exporter": "python",
   "pygments_lexer": "ipython3",
   "version": "3.10.13"
  },
  "papermill": {
   "default_parameters": {},
   "duration": 13.68218,
   "end_time": "2024-05-30T19:36:27.762954",
   "environment_variables": {},
   "exception": true,
   "input_path": "__notebook__.ipynb",
   "output_path": "__notebook__.ipynb",
   "parameters": {},
   "start_time": "2024-05-30T19:36:14.080774",
   "version": "2.5.0"
  }
 },
 "nbformat": 4,
 "nbformat_minor": 5
}
