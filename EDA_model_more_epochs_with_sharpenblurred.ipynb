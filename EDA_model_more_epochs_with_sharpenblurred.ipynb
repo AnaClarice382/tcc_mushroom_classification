{
 "cells": [
  {
   "cell_type": "code",
   "execution_count": 1,
   "id": "c07833f3-f343-46c3-8be7-68424a14cc8c",
   "metadata": {},
   "outputs": [],
   "source": [
    "import numpy as np # linear algebra\n",
    "import pandas as pd # data processing, CSV file I/O (e.g. pd.read_csv)\n",
    "import pickle\n",
    "\n",
    "import matplotlib.pyplot as plt\n",
    "import matplotlib.image as mpimg\n",
    "\n",
    "from sklearn.model_selection import train_test_split\n",
    "import os\n",
    "import random\n",
    "from PIL import Image\n",
    "import shutil\n",
    "import cv2\n",
    "\n",
    "pd.set_option('display.max_columns', 500)\n",
    "pd.set_option('display.max_colwidth', 500)"
   ]
  },
  {
   "cell_type": "code",
   "execution_count": 2,
   "id": "8f3aaaf4-21ac-4e29-abf9-925105fa71a2",
   "metadata": {},
   "outputs": [
    {
     "data": {
      "text/plain": [
       "'/Users/anarpereira/Docs_tcc/TCC'"
      ]
     },
     "execution_count": 2,
     "metadata": {},
     "output_type": "execute_result"
    }
   ],
   "source": [
    "os.getcwd()"
   ]
  },
  {
   "cell_type": "code",
   "execution_count": 3,
   "id": "d4bf4a23-2502-43c9-aaf3-8babe96403a9",
   "metadata": {},
   "outputs": [],
   "source": [
    "diretorio_base= '/Users/anarpereira/Docs_tcc/TCC/MIND.FungaApp/train/imagens_tratadas'"
   ]
  },
  {
   "cell_type": "code",
   "execution_count": 4,
   "id": "f92d9da5-13ff-4eb7-9b5b-b46b085ab41d",
   "metadata": {},
   "outputs": [],
   "source": [
    "files = []\n",
    "folders = []\n",
    "\n",
    "df = pd.DataFrame(columns=['qty_files', 'folder', 'file_paths'])  # Cria um DataFrame vazio com as colunas desejadas\n",
    "\n",
    "for pasta in os.listdir(diretorio_base):\n",
    "    if 'PRE_PROCESSING' in pasta and '.' not in pasta:\n",
    "        folders.append(pasta)\n",
    "        caminho_pasta = os.path.join(diretorio_base, pasta)\n",
    "        if os.path.isdir(caminho_pasta):\n",
    "            # Obtém os arquivos da pasta\n",
    "            arquivos = os.listdir(caminho_pasta)\n",
    "            \n",
    "            files_path = [os.path.join(pasta, arquivo) for arquivo in arquivos if '.ipy' not in arquivo]\n",
    "    \n",
    "            # Cria um DataFrame temporário com as informações da iteração atual\n",
    "            temp_df = pd.DataFrame({'qty_files': len(files_path), 'folder': pasta, 'file_paths': [files_path]}, index=[0])\n",
    "            \n",
    "            if (len(files_path)!=0):\n",
    "                # Concatena o DataFrame temporário com o DataFrame principal\n",
    "                df = pd.concat([df, temp_df], ignore_index=True)\n",
    "                files.extend(files_path)"
   ]
  },
  {
   "cell_type": "code",
   "execution_count": 5,
   "id": "96da7f4b-61ba-4875-b5a1-e61c0a86c0e1",
   "metadata": {},
   "outputs": [
    {
     "data": {
      "text/plain": [
       "(5, 3)"
      ]
     },
     "execution_count": 5,
     "metadata": {},
     "output_type": "execute_result"
    }
   ],
   "source": [
    "df.shape"
   ]
  },
  {
   "cell_type": "code",
   "execution_count": 6,
   "id": "918499e8-7610-4afd-b078-0a1e07536572",
   "metadata": {},
   "outputs": [],
   "source": [
    "df = df.sort_values(by='qty_files', ascending=False)[:5]"
   ]
  },
  {
   "cell_type": "code",
   "execution_count": 7,
   "id": "057538bd-454f-4d95-a9db-c7d7af57d474",
   "metadata": {},
   "outputs": [
    {
     "data": {
      "text/html": [
       "<div>\n",
       "<style scoped>\n",
       "    .dataframe tbody tr th:only-of-type {\n",
       "        vertical-align: middle;\n",
       "    }\n",
       "\n",
       "    .dataframe tbody tr th {\n",
       "        vertical-align: top;\n",
       "    }\n",
       "\n",
       "    .dataframe thead th {\n",
       "        text-align: right;\n",
       "    }\n",
       "</style>\n",
       "<table border=\"1\" class=\"dataframe\">\n",
       "  <thead>\n",
       "    <tr style=\"text-align: right;\">\n",
       "      <th></th>\n",
       "      <th>qty_files</th>\n",
       "      <th>folder</th>\n",
       "    </tr>\n",
       "  </thead>\n",
       "  <tbody>\n",
       "    <tr>\n",
       "      <th>0</th>\n",
       "      <td>358</td>\n",
       "      <td>Marasmiusamazonicus_PRE_PROCESSING</td>\n",
       "    </tr>\n",
       "    <tr>\n",
       "      <th>2</th>\n",
       "      <td>325</td>\n",
       "      <td>Phallusindusiatuscomplex_PRE_PROCESSING</td>\n",
       "    </tr>\n",
       "    <tr>\n",
       "      <th>1</th>\n",
       "      <td>265</td>\n",
       "      <td>Cookeinatricholoma_PRE_PROCESSING</td>\n",
       "    </tr>\n",
       "    <tr>\n",
       "      <th>4</th>\n",
       "      <td>198</td>\n",
       "      <td>Coprinellusdisseminatus_PRE_PROCESSING</td>\n",
       "    </tr>\n",
       "    <tr>\n",
       "      <th>3</th>\n",
       "      <td>194</td>\n",
       "      <td>Schizophyllumcommune_PRE_PROCESSING</td>\n",
       "    </tr>\n",
       "  </tbody>\n",
       "</table>\n",
       "</div>"
      ],
      "text/plain": [
       "  qty_files                                   folder\n",
       "0       358       Marasmiusamazonicus_PRE_PROCESSING\n",
       "2       325  Phallusindusiatuscomplex_PRE_PROCESSING\n",
       "1       265        Cookeinatricholoma_PRE_PROCESSING\n",
       "4       198   Coprinellusdisseminatus_PRE_PROCESSING\n",
       "3       194      Schizophyllumcommune_PRE_PROCESSING"
      ]
     },
     "execution_count": 7,
     "metadata": {},
     "output_type": "execute_result"
    }
   ],
   "source": [
    "df[['qty_files','folder']]"
   ]
  },
  {
   "cell_type": "code",
   "execution_count": 8,
   "id": "76d3b3bc-8f66-4ec6-b5bd-a26e45734db2",
   "metadata": {},
   "outputs": [],
   "source": [
    "folders = df['folder'].to_list()"
   ]
  },
  {
   "cell_type": "code",
   "execution_count": 9,
   "id": "3b8661b5-7ed7-4c93-be59-15a09ec9b9ae",
   "metadata": {},
   "outputs": [],
   "source": [
    "dict_names = {\"Marasmiusamazonicus_PRE_PROCESSING\":'Marasmius Amazonicus',\n",
    "\"Phallusindusiatuscomplex_PRE_PROCESSING\":'Phallus indusiatus',\n",
    "\"Schizophyllumcommune_PRE_PROCESSING\":'Schizophyllum commune',\n",
    "\"Coprinellusdisseminatus_PRE_PROCESSING\":'Coprinellus Disseminatus',\n",
    "\"Cookeinatricholoma_PRE_PROCESSING\":'Cookeina tricholoma'}"
   ]
  },
  {
   "cell_type": "code",
   "execution_count": 10,
   "id": "c3ce8a10-f671-4d32-b64f-1534e39948b0",
   "metadata": {},
   "outputs": [],
   "source": [
    "dict_codes = {\"Marasmiusamazonicus_PRE_PROCESSING\":1,\n",
    "\"Phallusindusiatuscomplex_PRE_PROCESSING\":2,\n",
    "\"Schizophyllumcommune_PRE_PROCESSING\":3,\n",
    "\"Coprinellusdisseminatus_PRE_PROCESSING\":4,\n",
    "\"Cookeinatricholoma_PRE_PROCESSING\":5}"
   ]
  },
  {
   "cell_type": "code",
   "execution_count": 11,
   "id": "cf77d496-0aa4-4648-ac36-d5baa4103138",
   "metadata": {},
   "outputs": [
    {
     "name": "stdout",
     "output_type": "stream",
     "text": [
      "Marasmiusamazonicus_PRE_PROCESSING\n",
      "Cookeinatricholoma_PRE_PROCESSING\n",
      "Phallusindusiatuscomplex_PRE_PROCESSING\n",
      "Schizophyllumcommune_PRE_PROCESSING\n",
      "Coprinellusdisseminatus_PRE_PROCESSING\n"
     ]
    }
   ],
   "source": [
    "def get_data(folder_division):\n",
    "    df = pd.DataFrame(columns=['species','file_path','folder','folder_division'])\n",
    "\n",
    "    for files in os.listdir(folder_division):\n",
    "        print(files)\n",
    "        if '.' not in files and '.DS_Store' not in files:\n",
    "            species = files.split('_')[0].lower()\n",
    "            new_file_list = []\n",
    "            \n",
    "            for i in os.listdir(os.path.join(folder_division, files)):\n",
    "                # print(i)\n",
    "                if '.DS_Store' not in i:\n",
    "                    new_file_list.append(i)\n",
    "            qty_files = len(new_file_list)\n",
    "            \n",
    "            df_temp = pd.DataFrame(data={'species':[species]*qty_files,\n",
    "                                         'file_path':new_file_list,\n",
    "                                         'folder':[files]*qty_files,\n",
    "                                         'folder_division':[folder_division]*qty_files},\n",
    "                                   columns=['species','file_path','folder','folder_division'])\n",
    "\n",
    "            df = pd.concat([df, df_temp])\n",
    "    return df.reset_index()\n",
    "\n",
    "df_train = get_data(diretorio_base)\n",
    "df_train['full_path'] = df_train['folder_division'] + '/' + df_train['folder'] + '/' + df_train['file_path']"
   ]
  },
  {
   "cell_type": "code",
   "execution_count": 12,
   "id": "ddd20d97-dfba-4f0f-9ec8-693e353e31cd",
   "metadata": {},
   "outputs": [
    {
     "data": {
      "text/html": [
       "<div>\n",
       "<style scoped>\n",
       "    .dataframe tbody tr th:only-of-type {\n",
       "        vertical-align: middle;\n",
       "    }\n",
       "\n",
       "    .dataframe tbody tr th {\n",
       "        vertical-align: top;\n",
       "    }\n",
       "\n",
       "    .dataframe thead th {\n",
       "        text-align: right;\n",
       "    }\n",
       "</style>\n",
       "<table border=\"1\" class=\"dataframe\">\n",
       "  <thead>\n",
       "    <tr style=\"text-align: right;\">\n",
       "      <th></th>\n",
       "      <th>index</th>\n",
       "      <th>species</th>\n",
       "      <th>file_path</th>\n",
       "      <th>folder</th>\n",
       "      <th>folder_division</th>\n",
       "      <th>full_path</th>\n",
       "    </tr>\n",
       "  </thead>\n",
       "  <tbody>\n",
       "    <tr>\n",
       "      <th>0</th>\n",
       "      <td>0</td>\n",
       "      <td>marasmiusamazonicus</td>\n",
       "      <td>processed_SSMarasmius_amazinicus_Voucher_135_PC264806_26_12_2016_Cacao_Trail_CJL_BR_345.jpg</td>\n",
       "      <td>Marasmiusamazonicus_PRE_PROCESSING</td>\n",
       "      <td>/Users/anarpereira/Docs_tcc/TCC/MIND.FungaApp/train/imagens_tratadas</td>\n",
       "      <td>/Users/anarpereira/Docs_tcc/TCC/MIND.FungaApp/train/imagens_tratadas/Marasmiusamazonicus_PRE_PROCESSING/processed_SSMarasmius_amazinicus_Voucher_135_PC264806_26_12_2016_Cacao_Trail_CJL_BR_345.jpg</td>\n",
       "    </tr>\n",
       "    <tr>\n",
       "      <th>1</th>\n",
       "      <td>1</td>\n",
       "      <td>marasmiusamazonicus</td>\n",
       "      <td>processed_SSMarasmius_amazonicus_PC287027_28_12_2016_Caju_Trail_CJL_BR_198.jpg</td>\n",
       "      <td>Marasmiusamazonicus_PRE_PROCESSING</td>\n",
       "      <td>/Users/anarpereira/Docs_tcc/TCC/MIND.FungaApp/train/imagens_tratadas</td>\n",
       "      <td>/Users/anarpereira/Docs_tcc/TCC/MIND.FungaApp/train/imagens_tratadas/Marasmiusamazonicus_PRE_PROCESSING/processed_SSMarasmius_amazonicus_PC287027_28_12_2016_Caju_Trail_CJL_BR_198.jpg</td>\n",
       "    </tr>\n",
       "    <tr>\n",
       "      <th>2</th>\n",
       "      <td>2</td>\n",
       "      <td>marasmiusamazonicus</td>\n",
       "      <td>processed_SSMarasmius_amazonicus_PC1032337_3_1_2017_Taboca_Trail_CJL_BR_336.jpg</td>\n",
       "      <td>Marasmiusamazonicus_PRE_PROCESSING</td>\n",
       "      <td>/Users/anarpereira/Docs_tcc/TCC/MIND.FungaApp/train/imagens_tratadas</td>\n",
       "      <td>/Users/anarpereira/Docs_tcc/TCC/MIND.FungaApp/train/imagens_tratadas/Marasmiusamazonicus_PRE_PROCESSING/processed_SSMarasmius_amazonicus_PC1032337_3_1_2017_Taboca_Trail_CJL_BR_336.jpg</td>\n",
       "    </tr>\n",
       "    <tr>\n",
       "      <th>3</th>\n",
       "      <td>3</td>\n",
       "      <td>marasmiusamazonicus</td>\n",
       "      <td>processed_SSP1086381_8_1_2019_Torre_2_Trail_CJL_BR_5.jpg</td>\n",
       "      <td>Marasmiusamazonicus_PRE_PROCESSING</td>\n",
       "      <td>/Users/anarpereira/Docs_tcc/TCC/MIND.FungaApp/train/imagens_tratadas</td>\n",
       "      <td>/Users/anarpereira/Docs_tcc/TCC/MIND.FungaApp/train/imagens_tratadas/Marasmiusamazonicus_PRE_PROCESSING/processed_SSP1086381_8_1_2019_Torre_2_Trail_CJL_BR_5.jpg</td>\n",
       "    </tr>\n",
       "    <tr>\n",
       "      <th>4</th>\n",
       "      <td>4</td>\n",
       "      <td>marasmiusamazonicus</td>\n",
       "      <td>processed_SSMarasmius_amazinicus_Voucher_135_PC264844_26_12_2016_Cacao_Trail_CJL_BR_165.jpg</td>\n",
       "      <td>Marasmiusamazonicus_PRE_PROCESSING</td>\n",
       "      <td>/Users/anarpereira/Docs_tcc/TCC/MIND.FungaApp/train/imagens_tratadas</td>\n",
       "      <td>/Users/anarpereira/Docs_tcc/TCC/MIND.FungaApp/train/imagens_tratadas/Marasmiusamazonicus_PRE_PROCESSING/processed_SSMarasmius_amazinicus_Voucher_135_PC264844_26_12_2016_Cacao_Trail_CJL_BR_165.jpg</td>\n",
       "    </tr>\n",
       "  </tbody>\n",
       "</table>\n",
       "</div>"
      ],
      "text/plain": [
       "   index              species  \\\n",
       "0      0  marasmiusamazonicus   \n",
       "1      1  marasmiusamazonicus   \n",
       "2      2  marasmiusamazonicus   \n",
       "3      3  marasmiusamazonicus   \n",
       "4      4  marasmiusamazonicus   \n",
       "\n",
       "                                                                                     file_path  \\\n",
       "0  processed_SSMarasmius_amazinicus_Voucher_135_PC264806_26_12_2016_Cacao_Trail_CJL_BR_345.jpg   \n",
       "1               processed_SSMarasmius_amazonicus_PC287027_28_12_2016_Caju_Trail_CJL_BR_198.jpg   \n",
       "2              processed_SSMarasmius_amazonicus_PC1032337_3_1_2017_Taboca_Trail_CJL_BR_336.jpg   \n",
       "3                                     processed_SSP1086381_8_1_2019_Torre_2_Trail_CJL_BR_5.jpg   \n",
       "4  processed_SSMarasmius_amazinicus_Voucher_135_PC264844_26_12_2016_Cacao_Trail_CJL_BR_165.jpg   \n",
       "\n",
       "                               folder  \\\n",
       "0  Marasmiusamazonicus_PRE_PROCESSING   \n",
       "1  Marasmiusamazonicus_PRE_PROCESSING   \n",
       "2  Marasmiusamazonicus_PRE_PROCESSING   \n",
       "3  Marasmiusamazonicus_PRE_PROCESSING   \n",
       "4  Marasmiusamazonicus_PRE_PROCESSING   \n",
       "\n",
       "                                                        folder_division  \\\n",
       "0  /Users/anarpereira/Docs_tcc/TCC/MIND.FungaApp/train/imagens_tratadas   \n",
       "1  /Users/anarpereira/Docs_tcc/TCC/MIND.FungaApp/train/imagens_tratadas   \n",
       "2  /Users/anarpereira/Docs_tcc/TCC/MIND.FungaApp/train/imagens_tratadas   \n",
       "3  /Users/anarpereira/Docs_tcc/TCC/MIND.FungaApp/train/imagens_tratadas   \n",
       "4  /Users/anarpereira/Docs_tcc/TCC/MIND.FungaApp/train/imagens_tratadas   \n",
       "\n",
       "                                                                                                                                                                                             full_path  \n",
       "0  /Users/anarpereira/Docs_tcc/TCC/MIND.FungaApp/train/imagens_tratadas/Marasmiusamazonicus_PRE_PROCESSING/processed_SSMarasmius_amazinicus_Voucher_135_PC264806_26_12_2016_Cacao_Trail_CJL_BR_345.jpg  \n",
       "1               /Users/anarpereira/Docs_tcc/TCC/MIND.FungaApp/train/imagens_tratadas/Marasmiusamazonicus_PRE_PROCESSING/processed_SSMarasmius_amazonicus_PC287027_28_12_2016_Caju_Trail_CJL_BR_198.jpg  \n",
       "2              /Users/anarpereira/Docs_tcc/TCC/MIND.FungaApp/train/imagens_tratadas/Marasmiusamazonicus_PRE_PROCESSING/processed_SSMarasmius_amazonicus_PC1032337_3_1_2017_Taboca_Trail_CJL_BR_336.jpg  \n",
       "3                                     /Users/anarpereira/Docs_tcc/TCC/MIND.FungaApp/train/imagens_tratadas/Marasmiusamazonicus_PRE_PROCESSING/processed_SSP1086381_8_1_2019_Torre_2_Trail_CJL_BR_5.jpg  \n",
       "4  /Users/anarpereira/Docs_tcc/TCC/MIND.FungaApp/train/imagens_tratadas/Marasmiusamazonicus_PRE_PROCESSING/processed_SSMarasmius_amazinicus_Voucher_135_PC264844_26_12_2016_Cacao_Trail_CJL_BR_165.jpg  "
      ]
     },
     "execution_count": 12,
     "metadata": {},
     "output_type": "execute_result"
    }
   ],
   "source": [
    "df_train.head()"
   ]
  },
  {
   "cell_type": "code",
   "execution_count": 13,
   "id": "69c7073d-c3b8-45cf-97cb-52d96336dee8",
   "metadata": {},
   "outputs": [],
   "source": [
    "df_train['species_code'] = df_train['folder'].apply(lambda x: dict_codes[x])"
   ]
  },
  {
   "cell_type": "markdown",
   "id": "25b5df4b-d738-4b39-a434-c6d2795bc673",
   "metadata": {},
   "source": [
    "# Modeling"
   ]
  },
  {
   "cell_type": "code",
   "execution_count": 14,
   "id": "04e883a3-89cf-4149-81ff-a73ee90bfddd",
   "metadata": {},
   "outputs": [],
   "source": [
    "import os\n",
    "import numpy as np\n",
    "from sklearn.model_selection import KFold\n",
    "from tensorflow.keras.preprocessing.image import ImageDataGenerator\n",
    "from tensorflow.keras.applications import ResNet50\n",
    "from tensorflow.keras import Sequential\n",
    "from tensorflow.keras.layers import Dense, GlobalAveragePooling2D\n",
    "from tensorflow.keras.optimizers import Adam\n",
    "from tensorflow.keras.callbacks import EarlyStopping, ModelCheckpoint, ReduceLROnPlateau"
   ]
  },
  {
   "cell_type": "code",
   "execution_count": 17,
   "id": "c1f04be9-d241-41ea-9718-07d680db0f5d",
   "metadata": {},
   "outputs": [],
   "source": [
    "# Definir parâmetros\n",
    "input_shape = (224, 224, 3)\n",
    "num_classes = 5 \n",
    "k_folds = 5 \n",
    "batch_size = 32\n",
    "epochs = 150"
   ]
  },
  {
   "cell_type": "code",
   "execution_count": 18,
   "id": "5ce9efa9-b886-46c5-af62-045e234be571",
   "metadata": {},
   "outputs": [],
   "source": [
    "# Função para criar o modelo\n",
    "import tensorflow as tf\n",
    "def create_model():\n",
    "    base_model = ResNet50(include_top=False, input_shape=input_shape)\n",
    "    \n",
    "    for layer in base_model.layers:\n",
    "        layer.trainable=False\n",
    "        \n",
    "    model = Sequential([\n",
    "        base_model,\n",
    "        GlobalAveragePooling2D(),\n",
    "        Dense(1024, activation='relu'),\n",
    "        Dense(1024, activation='relu'),\n",
    "        Dense(num_classes, activation='softmax')\n",
    "    ])\n",
    "    \n",
    "    model.compile(optimizer=Adam(learning_rate=0.001), loss='categorical_crossentropy', metrics=['accuracy',\n",
    "                                                                                                 tf.keras.metrics.Precision(),\n",
    "                                                                                                 tf.keras.metrics.Recall()])\n",
    "    \n",
    "    return model"
   ]
  },
  {
   "cell_type": "code",
   "execution_count": 19,
   "id": "87718f22-6ad4-49b6-b6ce-5824e6a4e273",
   "metadata": {},
   "outputs": [
    {
     "name": "stderr",
     "output_type": "stream",
     "text": [
      "2025-03-15 15:54:56.794973: I tensorflow/core/platform/cpu_feature_guard.cc:193] This TensorFlow binary is optimized with oneAPI Deep Neural Network Library (oneDNN) to use the following CPU instructions in performance-critical operations:  SSE4.1 SSE4.2 AVX AVX2 FMA\n",
      "To enable them in other operations, rebuild TensorFlow with the appropriate compiler flags.\n"
     ]
    }
   ],
   "source": [
    "x = create_model()"
   ]
  },
  {
   "cell_type": "code",
   "execution_count": 20,
   "id": "b6c17a58-bee7-4dcc-98b4-a66fbca280d0",
   "metadata": {},
   "outputs": [
    {
     "name": "stdout",
     "output_type": "stream",
     "text": [
      "Model: \"sequential\"\n",
      "_________________________________________________________________\n",
      " Layer (type)                Output Shape              Param #   \n",
      "=================================================================\n",
      " resnet50 (Functional)       (None, 7, 7, 2048)        23587712  \n",
      "                                                                 \n",
      " global_average_pooling2d (G  (None, 2048)             0         \n",
      " lobalAveragePooling2D)                                          \n",
      "                                                                 \n",
      " dense (Dense)               (None, 1024)              2098176   \n",
      "                                                                 \n",
      " dense_1 (Dense)             (None, 1024)              1049600   \n",
      "                                                                 \n",
      " dense_2 (Dense)             (None, 5)                 5125      \n",
      "                                                                 \n",
      "=================================================================\n",
      "Total params: 26,740,613\n",
      "Trainable params: 3,152,901\n",
      "Non-trainable params: 23,587,712\n",
      "_________________________________________________________________\n"
     ]
    }
   ],
   "source": [
    "x.compile()\n",
    "x.summary()\n"
   ]
  },
  {
   "cell_type": "code",
   "execution_count": 19,
   "id": "daee508f-4797-4f68-958c-4cc21c51a1af",
   "metadata": {},
   "outputs": [],
   "source": [
    "import tensorflow as tf\n",
    "from timeit import default_timer as timer\n",
    "\n",
    "class TimingCallback(tf.keras.callbacks.Callback):\n",
    "    def __init__(self, logs={}):\n",
    "        self.logs=[]\n",
    "    def on_epoch_begin(self, epoch, logs={}):\n",
    "        self.starttime = timer()\n",
    "    def on_epoch_end(self, epoch, logs={}):\n",
    "        self.logs.append(timer()-self.starttime)\n",
    "\n",
    "cb = TimingCallback()"
   ]
  },
  {
   "cell_type": "code",
   "execution_count": 22,
   "id": "348ac478-e757-4963-9530-3c8c87c68425",
   "metadata": {},
   "outputs": [],
   "source": [
    "# Convertendo para arrays NumPy\n",
    "data = np.array(df_train['full_path'])\n",
    "labels = np.array(df_train['species_code'])\n",
    "\n",
    "df = pd.DataFrame({'paths':data, 'labels':labels}).astype(str)\n",
    "df.to_csv('blurred_sharpen.csv')"
   ]
  },
  {
   "cell_type": "code",
   "execution_count": 33,
   "id": "aad71ea5-d0dd-417b-b616-98034f64720f",
   "metadata": {
    "scrolled": true,
    "tags": []
   },
   "outputs": [
    {
     "name": "stdout",
     "output_type": "stream",
     "text": [
      "Found 1072 validated image filenames belonging to 5 classes.\n",
      "Found 268 validated image filenames belonging to 5 classes.\n",
      "Epoch 1/150\n",
      "34/34 [==============================] - 172s 5s/step - loss: 1.8750 - accuracy: 0.2705 - precision_3: 0.1942 - recall_3: 0.0252 - val_loss: 1.5405 - val_accuracy: 0.2351 - val_precision_3: 0.0000e+00 - val_recall_3: 0.0000e+00 - lr: 0.0010\n",
      "Epoch 2/150\n",
      "34/34 [==============================] - 192s 6s/step - loss: 1.4296 - accuracy: 0.4030 - precision_3: 0.9474 - recall_3: 0.0504 - val_loss: 1.3164 - val_accuracy: 0.4366 - val_precision_3: 1.0000 - val_recall_3: 0.0970 - lr: 0.0010\n",
      "Epoch 3/150\n",
      "34/34 [==============================] - 248s 7s/step - loss: 1.2062 - accuracy: 0.5252 - precision_3: 0.8485 - recall_3: 0.2090 - val_loss: 1.1268 - val_accuracy: 0.6455 - val_precision_3: 0.9672 - val_recall_3: 0.2201 - lr: 0.0010\n",
      "Epoch 4/150\n",
      "34/34 [==============================] - 225s 7s/step - loss: 1.1303 - accuracy: 0.5550 - precision_3: 0.8271 - recall_3: 0.3078 - val_loss: 1.1151 - val_accuracy: 0.4888 - val_precision_3: 0.7383 - val_recall_3: 0.4104 - lr: 0.0010\n",
      "Epoch 5/150\n",
      "34/34 [==============================] - 209s 6s/step - loss: 1.0173 - accuracy: 0.6129 - precision_3: 0.8473 - recall_3: 0.4142 - val_loss: 1.0768 - val_accuracy: 0.6269 - val_precision_3: 0.8969 - val_recall_3: 0.3246 - lr: 0.0010\n",
      "Epoch 6/150\n",
      "34/34 [==============================] - 200s 6s/step - loss: 0.9658 - accuracy: 0.6353 - precision_3: 0.7795 - recall_3: 0.4618 - val_loss: 0.9984 - val_accuracy: 0.5970 - val_precision_3: 0.8110 - val_recall_3: 0.3843 - lr: 0.0010\n",
      "Epoch 7/150\n",
      "34/34 [==============================] - 177s 5s/step - loss: 0.9408 - accuracy: 0.6297 - precision_3: 0.8134 - recall_3: 0.4636 - val_loss: 0.9281 - val_accuracy: 0.6567 - val_precision_3: 0.7605 - val_recall_3: 0.4739 - lr: 0.0010\n",
      "Epoch 8/150\n",
      "34/34 [==============================] - 172s 5s/step - loss: 0.8464 - accuracy: 0.6614 - precision_3: 0.7994 - recall_3: 0.5392 - val_loss: 0.8042 - val_accuracy: 0.7015 - val_precision_3: 0.8553 - val_recall_3: 0.5075 - lr: 0.0010\n",
      "Epoch 9/150\n",
      "34/34 [==============================] - 153s 5s/step - loss: 0.8666 - accuracy: 0.6632 - precision_3: 0.8282 - recall_3: 0.5261 - val_loss: 0.7627 - val_accuracy: 0.7276 - val_precision_3: 0.8929 - val_recall_3: 0.5597 - lr: 0.0010\n",
      "Epoch 10/150\n",
      "34/34 [==============================] - 115s 3s/step - loss: 0.8166 - accuracy: 0.6838 - precision_3: 0.8099 - recall_3: 0.5644 - val_loss: 0.7513 - val_accuracy: 0.7612 - val_precision_3: 0.8743 - val_recall_3: 0.5970 - lr: 0.0010\n",
      "Epoch 11/150\n",
      "34/34 [==============================] - 115s 3s/step - loss: 0.7950 - accuracy: 0.6847 - precision_3: 0.8239 - recall_3: 0.5718 - val_loss: 0.7515 - val_accuracy: 0.6978 - val_precision_3: 0.8276 - val_recall_3: 0.6269 - lr: 0.0010\n",
      "Epoch 12/150\n",
      "34/34 [==============================] - 116s 3s/step - loss: 0.7612 - accuracy: 0.7080 - precision_3: 0.8409 - recall_3: 0.5868 - val_loss: 0.7099 - val_accuracy: 0.7500 - val_precision_3: 0.8771 - val_recall_3: 0.5858 - lr: 0.0010\n",
      "Epoch 13/150\n",
      "34/34 [==============================] - 116s 3s/step - loss: 0.6922 - accuracy: 0.7313 - precision_3: 0.8368 - recall_3: 0.6362 - val_loss: 0.7795 - val_accuracy: 0.7164 - val_precision_3: 0.8284 - val_recall_3: 0.6306 - lr: 0.0010\n",
      "Epoch 14/150\n",
      "34/34 [==============================] - 124s 4s/step - loss: 0.7687 - accuracy: 0.7043 - precision_3: 0.8459 - recall_3: 0.5942 - val_loss: 0.6631 - val_accuracy: 0.8134 - val_precision_3: 0.8973 - val_recall_3: 0.6194 - lr: 0.0010\n",
      "Epoch 15/150\n",
      "34/34 [==============================] - 120s 4s/step - loss: 0.6781 - accuracy: 0.7463 - precision_3: 0.8442 - recall_3: 0.6521 - val_loss: 0.6427 - val_accuracy: 0.7575 - val_precision_3: 0.8599 - val_recall_3: 0.6642 - lr: 0.0010\n",
      "Epoch 16/150\n",
      "34/34 [==============================] - 116s 3s/step - loss: 0.6412 - accuracy: 0.7603 - precision_3: 0.8526 - recall_3: 0.6800 - val_loss: 1.0309 - val_accuracy: 0.6082 - val_precision_3: 0.6303 - val_recall_3: 0.5597 - lr: 0.0010\n",
      "Epoch 17/150\n",
      "34/34 [==============================] - 116s 3s/step - loss: 0.7623 - accuracy: 0.7118 - precision_3: 0.8196 - recall_3: 0.6017 - val_loss: 0.6771 - val_accuracy: 0.7388 - val_precision_3: 0.8392 - val_recall_3: 0.6231 - lr: 0.0010\n",
      "Epoch 18/150\n",
      "34/34 [==============================] - 114s 3s/step - loss: 0.6184 - accuracy: 0.7743 - precision_3: 0.8611 - recall_3: 0.6996 - val_loss: 0.6578 - val_accuracy: 0.7649 - val_precision_3: 0.8389 - val_recall_3: 0.6604 - lr: 0.0010\n",
      "Epoch 19/150\n",
      "34/34 [==============================] - 145s 4s/step - loss: 0.6250 - accuracy: 0.7733 - precision_3: 0.8548 - recall_3: 0.6810 - val_loss: 0.6443 - val_accuracy: 0.7463 - val_precision_3: 0.8565 - val_recall_3: 0.6679 - lr: 0.0010\n",
      "Epoch 20/150\n",
      "34/34 [==============================] - 243s 7s/step - loss: 0.5739 - accuracy: 0.8013 - precision_3: 0.8641 - recall_3: 0.7295 - val_loss: 0.6900 - val_accuracy: 0.7687 - val_precision_3: 0.8444 - val_recall_3: 0.7090 - lr: 0.0010\n",
      "Epoch 21/150\n",
      "34/34 [==============================] - 242s 7s/step - loss: 0.6624 - accuracy: 0.7472 - precision_3: 0.8235 - recall_3: 0.6744 - val_loss: 0.6867 - val_accuracy: 0.7500 - val_precision_3: 0.8265 - val_recall_3: 0.6045 - lr: 0.0010\n",
      "Epoch 22/150\n",
      "34/34 [==============================] - 256s 8s/step - loss: 0.6207 - accuracy: 0.7771 - precision_3: 0.8600 - recall_3: 0.6875 - val_loss: 0.5844 - val_accuracy: 0.7388 - val_precision_3: 0.8318 - val_recall_3: 0.6828 - lr: 0.0010\n",
      "Epoch 23/150\n",
      "34/34 [==============================] - 257s 8s/step - loss: 0.5631 - accuracy: 0.7901 - precision_3: 0.8729 - recall_3: 0.7239 - val_loss: 0.6837 - val_accuracy: 0.7537 - val_precision_3: 0.8111 - val_recall_3: 0.6567 - lr: 0.0010\n",
      "Epoch 24/150\n",
      "34/34 [==============================] - 254s 8s/step - loss: 0.5401 - accuracy: 0.8134 - precision_3: 0.8659 - recall_3: 0.7351 - val_loss: 0.6397 - val_accuracy: 0.7463 - val_precision_3: 0.7983 - val_recall_3: 0.6940 - lr: 0.0010\n",
      "Epoch 25/150\n",
      "34/34 [==============================] - 253s 7s/step - loss: 0.5287 - accuracy: 0.7901 - precision_3: 0.8705 - recall_3: 0.7276 - val_loss: 0.5724 - val_accuracy: 0.7761 - val_precision_3: 0.8710 - val_recall_3: 0.7052 - lr: 0.0010\n",
      "Epoch 26/150\n",
      "34/34 [==============================] - 255s 8s/step - loss: 0.5410 - accuracy: 0.8041 - precision_3: 0.8667 - recall_3: 0.7397 - val_loss: 0.6516 - val_accuracy: 0.7500 - val_precision_3: 0.8119 - val_recall_3: 0.6604 - lr: 0.0010\n",
      "Epoch 27/150\n",
      "34/34 [==============================] - 274s 8s/step - loss: 0.5230 - accuracy: 0.8022 - precision_3: 0.8800 - recall_3: 0.7388 - val_loss: 0.5471 - val_accuracy: 0.8172 - val_precision_3: 0.8750 - val_recall_3: 0.7313 - lr: 0.0010\n",
      "Epoch 28/150\n",
      "34/34 [==============================] - 255s 8s/step - loss: 0.4857 - accuracy: 0.8200 - precision_3: 0.8873 - recall_3: 0.7640 - val_loss: 0.6262 - val_accuracy: 0.7761 - val_precision_3: 0.8326 - val_recall_3: 0.7239 - lr: 0.0010\n",
      "Epoch 29/150\n",
      "34/34 [==============================] - 274s 8s/step - loss: 0.5807 - accuracy: 0.7826 - precision_3: 0.8537 - recall_3: 0.7351 - val_loss: 0.6861 - val_accuracy: 0.7575 - val_precision_3: 0.8341 - val_recall_3: 0.6940 - lr: 0.0010\n",
      "Epoch 30/150\n",
      "34/34 [==============================] - 269s 8s/step - loss: 0.5445 - accuracy: 0.8060 - precision_3: 0.8909 - recall_3: 0.7388 - val_loss: 0.8807 - val_accuracy: 0.7201 - val_precision_3: 0.7841 - val_recall_3: 0.6642 - lr: 0.0010\n",
      "Epoch 31/150\n",
      "34/34 [==============================] - 272s 8s/step - loss: 0.5666 - accuracy: 0.7957 - precision_3: 0.8596 - recall_3: 0.7369 - val_loss: 0.7484 - val_accuracy: 0.7015 - val_precision_3: 0.7500 - val_recall_3: 0.6493 - lr: 0.0010\n",
      "Epoch 32/150\n",
      "34/34 [==============================] - 171s 5s/step - loss: 0.5066 - accuracy: 0.8097 - precision_3: 0.8858 - recall_3: 0.7528 - val_loss: 0.5403 - val_accuracy: 0.7948 - val_precision_3: 0.8640 - val_recall_3: 0.7351 - lr: 0.0010\n",
      "Epoch 33/150\n",
      "34/34 [==============================] - 138s 4s/step - loss: 0.4310 - accuracy: 0.8451 - precision_3: 0.9091 - recall_3: 0.7836 - val_loss: 0.5381 - val_accuracy: 0.8060 - val_precision_3: 0.8421 - val_recall_3: 0.7761 - lr: 0.0010\n",
      "Epoch 34/150\n",
      "34/34 [==============================] - 142s 4s/step - loss: 0.4592 - accuracy: 0.8330 - precision_3: 0.8917 - recall_3: 0.7910 - val_loss: 0.4955 - val_accuracy: 0.7948 - val_precision_3: 0.8517 - val_recall_3: 0.7500 - lr: 0.0010\n",
      "Epoch 35/150\n",
      "34/34 [==============================] - 231s 7s/step - loss: 0.5337 - accuracy: 0.8097 - precision_3: 0.8663 - recall_3: 0.7435 - val_loss: 0.5461 - val_accuracy: 0.8134 - val_precision_3: 0.9167 - val_recall_3: 0.6978 - lr: 0.0010\n",
      "Epoch 36/150\n",
      "34/34 [==============================] - 258s 8s/step - loss: 0.4560 - accuracy: 0.8284 - precision_3: 0.9013 - recall_3: 0.7752 - val_loss: 0.6040 - val_accuracy: 0.7612 - val_precision_3: 0.8304 - val_recall_3: 0.7127 - lr: 0.0010\n",
      "Epoch 37/150\n",
      "34/34 [==============================] - 235s 7s/step - loss: 0.4588 - accuracy: 0.8377 - precision_3: 0.8972 - recall_3: 0.7901 - val_loss: 0.6494 - val_accuracy: 0.7575 - val_precision_3: 0.8407 - val_recall_3: 0.7090 - lr: 0.0010\n",
      "Epoch 38/150\n",
      "34/34 [==============================] - 232s 7s/step - loss: 0.4516 - accuracy: 0.8340 - precision_3: 0.8933 - recall_3: 0.7892 - val_loss: 0.5935 - val_accuracy: 0.7873 - val_precision_3: 0.8285 - val_recall_3: 0.7388 - lr: 0.0010\n",
      "Epoch 39/150\n",
      "34/34 [==============================] - 126s 4s/step - loss: 0.4402 - accuracy: 0.8396 - precision_3: 0.8830 - recall_3: 0.7957 - val_loss: 0.6640 - val_accuracy: 0.7537 - val_precision_3: 0.8178 - val_recall_3: 0.7201 - lr: 0.0010\n",
      "Epoch 40/150\n",
      "34/34 [==============================] - 118s 3s/step - loss: 0.4514 - accuracy: 0.8396 - precision_3: 0.8996 - recall_3: 0.7938 - val_loss: 0.5127 - val_accuracy: 0.7985 - val_precision_3: 0.8826 - val_recall_3: 0.7575 - lr: 0.0010\n",
      "Epoch 41/150\n",
      "34/34 [==============================] - 119s 4s/step - loss: 0.4254 - accuracy: 0.8498 - precision_3: 0.8973 - recall_3: 0.7985 - val_loss: 0.4398 - val_accuracy: 0.8619 - val_precision_3: 0.9083 - val_recall_3: 0.8134 - lr: 0.0010\n",
      "Epoch 42/150\n",
      "34/34 [==============================] - 117s 3s/step - loss: 0.3974 - accuracy: 0.8619 - precision_3: 0.9125 - recall_3: 0.8172 - val_loss: 0.4630 - val_accuracy: 0.8396 - val_precision_3: 0.9068 - val_recall_3: 0.7985 - lr: 0.0010\n",
      "Epoch 43/150\n",
      "34/34 [==============================] - 118s 3s/step - loss: 0.5095 - accuracy: 0.8172 - precision_3: 0.8815 - recall_3: 0.7705 - val_loss: 0.4965 - val_accuracy: 0.8284 - val_precision_3: 0.8761 - val_recall_3: 0.7388 - lr: 0.0010\n",
      "Epoch 44/150\n",
      "34/34 [==============================] - 118s 3s/step - loss: 0.3968 - accuracy: 0.8610 - precision_3: 0.9092 - recall_3: 0.8032 - val_loss: 0.4031 - val_accuracy: 0.8694 - val_precision_3: 0.9170 - val_recall_3: 0.8246 - lr: 0.0010\n",
      "Epoch 45/150\n",
      "34/34 [==============================] - 120s 4s/step - loss: 0.3542 - accuracy: 0.8675 - precision_3: 0.9208 - recall_3: 0.8246 - val_loss: 0.4100 - val_accuracy: 0.8806 - val_precision_3: 0.9167 - val_recall_3: 0.8209 - lr: 0.0010\n",
      "Epoch 46/150\n",
      "34/34 [==============================] - 117s 3s/step - loss: 0.3864 - accuracy: 0.8591 - precision_3: 0.9062 - recall_3: 0.8116 - val_loss: 0.4911 - val_accuracy: 0.8022 - val_precision_3: 0.8776 - val_recall_3: 0.7761 - lr: 0.0010\n",
      "Epoch 47/150\n",
      "34/34 [==============================] - 119s 4s/step - loss: 0.3921 - accuracy: 0.8619 - precision_3: 0.9013 - recall_3: 0.8181 - val_loss: 0.6104 - val_accuracy: 0.7799 - val_precision_3: 0.8174 - val_recall_3: 0.7351 - lr: 0.0010\n",
      "Epoch 48/150\n",
      "34/34 [==============================] - 119s 4s/step - loss: 0.3784 - accuracy: 0.8591 - precision_3: 0.9146 - recall_3: 0.8088 - val_loss: 0.4599 - val_accuracy: 0.8545 - val_precision_3: 0.8755 - val_recall_3: 0.8134 - lr: 0.0010\n",
      "Epoch 49/150\n",
      "34/34 [==============================] - 219s 7s/step - loss: 0.3863 - accuracy: 0.8582 - precision_3: 0.9010 - recall_3: 0.8237 - val_loss: 0.5074 - val_accuracy: 0.7948 - val_precision_3: 0.8664 - val_recall_3: 0.7500 - lr: 0.0010\n",
      "Epoch 50/150\n",
      "34/34 [==============================] - 262s 8s/step - loss: 0.3676 - accuracy: 0.8703 - precision_3: 0.9168 - recall_3: 0.8321 - val_loss: 0.5153 - val_accuracy: 0.8209 - val_precision_3: 0.8870 - val_recall_3: 0.7910 - lr: 0.0010\n",
      "Epoch 51/150\n",
      "34/34 [==============================] - ETA: 0s - loss: 0.3383 - accuracy: 0.8741 - precision_3: 0.9142 - recall_3: 0.8349\n",
      "Epoch 51: ReduceLROnPlateau reducing learning rate to 0.00010000000474974513.\n",
      "34/34 [==============================] - 267s 8s/step - loss: 0.3383 - accuracy: 0.8741 - precision_3: 0.9142 - recall_3: 0.8349 - val_loss: 0.4409 - val_accuracy: 0.8246 - val_precision_3: 0.8828 - val_recall_3: 0.7873 - lr: 0.0010\n",
      "Epoch 52/150\n",
      "34/34 [==============================] - 275s 8s/step - loss: 0.2882 - accuracy: 0.8927 - precision_3: 0.9332 - recall_3: 0.8601 - val_loss: 0.3579 - val_accuracy: 0.8731 - val_precision_3: 0.9084 - val_recall_3: 0.8507 - lr: 1.0000e-04\n",
      "Epoch 53/150\n",
      "34/34 [==============================] - 277s 8s/step - loss: 0.2483 - accuracy: 0.9160 - precision_3: 0.9515 - recall_3: 0.8787 - val_loss: 0.3701 - val_accuracy: 0.8881 - val_precision_3: 0.9120 - val_recall_3: 0.8507 - lr: 1.0000e-04\n",
      "Epoch 54/150\n",
      "34/34 [==============================] - 271s 8s/step - loss: 0.2432 - accuracy: 0.9095 - precision_3: 0.9516 - recall_3: 0.8806 - val_loss: 0.3964 - val_accuracy: 0.8657 - val_precision_3: 0.8929 - val_recall_3: 0.8396 - lr: 1.0000e-04\n",
      "Epoch 55/150\n",
      "34/34 [==============================] - 269s 8s/step - loss: 0.2403 - accuracy: 0.9123 - precision_3: 0.9507 - recall_3: 0.8815 - val_loss: 0.3833 - val_accuracy: 0.8731 - val_precision_3: 0.9032 - val_recall_3: 0.8358 - lr: 1.0000e-04\n",
      "Epoch 56/150\n",
      "34/34 [==============================] - 251s 7s/step - loss: 0.2386 - accuracy: 0.9235 - precision_3: 0.9505 - recall_3: 0.8778 - val_loss: 0.3660 - val_accuracy: 0.8918 - val_precision_3: 0.9146 - val_recall_3: 0.8396 - lr: 1.0000e-04\n",
      "Epoch 57/150\n",
      "34/34 [==============================] - 199s 6s/step - loss: 0.2329 - accuracy: 0.9160 - precision_3: 0.9527 - recall_3: 0.8834 - val_loss: 0.3653 - val_accuracy: 0.8806 - val_precision_3: 0.9167 - val_recall_3: 0.8619 - lr: 1.0000e-04\n",
      "Epoch 58/150\n",
      "34/34 [==============================] - 140s 4s/step - loss: 0.2322 - accuracy: 0.9188 - precision_3: 0.9550 - recall_3: 0.8909 - val_loss: 0.3563 - val_accuracy: 0.8918 - val_precision_3: 0.9094 - val_recall_3: 0.8619 - lr: 1.0000e-04\n",
      "Epoch 59/150\n",
      "34/34 [==============================] - 128s 4s/step - loss: 0.2385 - accuracy: 0.9132 - precision_3: 0.9547 - recall_3: 0.8853 - val_loss: 0.3584 - val_accuracy: 0.8993 - val_precision_3: 0.9134 - val_recall_3: 0.8657 - lr: 1.0000e-04\n",
      "Epoch 60/150\n",
      "34/34 [==============================] - 131s 4s/step - loss: 0.2316 - accuracy: 0.9235 - precision_3: 0.9562 - recall_3: 0.8965 - val_loss: 0.3499 - val_accuracy: 0.8806 - val_precision_3: 0.9213 - val_recall_3: 0.8731 - lr: 1.0000e-04\n",
      "Epoch 61/150\n",
      "34/34 [==============================] - 120s 4s/step - loss: 0.2296 - accuracy: 0.9216 - precision_3: 0.9561 - recall_3: 0.8946 - val_loss: 0.3472 - val_accuracy: 0.8918 - val_precision_3: 0.9173 - val_recall_3: 0.8694 - lr: 1.0000e-04\n",
      "Epoch 62/150\n",
      "34/34 [==============================] - 119s 4s/step - loss: 0.2239 - accuracy: 0.9226 - precision_3: 0.9540 - recall_3: 0.8899 - val_loss: 0.3818 - val_accuracy: 0.8806 - val_precision_3: 0.8929 - val_recall_3: 0.8396 - lr: 1.0000e-04\n",
      "Epoch 63/150\n",
      "34/34 [==============================] - 120s 4s/step - loss: 0.2292 - accuracy: 0.9170 - precision_3: 0.9506 - recall_3: 0.8983 - val_loss: 0.3757 - val_accuracy: 0.8955 - val_precision_3: 0.9157 - val_recall_3: 0.8507 - lr: 1.0000e-04\n",
      "Epoch 64/150\n",
      "34/34 [==============================] - 118s 3s/step - loss: 0.2270 - accuracy: 0.9244 - precision_3: 0.9557 - recall_3: 0.8853 - val_loss: 0.3683 - val_accuracy: 0.8843 - val_precision_3: 0.9209 - val_recall_3: 0.8694 - lr: 1.0000e-04\n",
      "Epoch 65/150\n",
      "34/34 [==============================] - 117s 3s/step - loss: 0.2257 - accuracy: 0.9179 - precision_3: 0.9486 - recall_3: 0.8955 - val_loss: 0.3425 - val_accuracy: 0.8881 - val_precision_3: 0.9176 - val_recall_3: 0.8731 - lr: 1.0000e-04\n",
      "Epoch 66/150\n",
      "34/34 [==============================] - 119s 4s/step - loss: 0.2223 - accuracy: 0.9226 - precision_3: 0.9553 - recall_3: 0.8965 - val_loss: 0.3502 - val_accuracy: 0.8918 - val_precision_3: 0.9098 - val_recall_3: 0.8657 - lr: 1.0000e-04\n",
      "Epoch 67/150\n",
      "34/34 [==============================] - 117s 3s/step - loss: 0.2243 - accuracy: 0.9254 - precision_3: 0.9512 - recall_3: 0.8909 - val_loss: 0.3434 - val_accuracy: 0.8881 - val_precision_3: 0.9141 - val_recall_3: 0.8731 - lr: 1.0000e-04\n",
      "Epoch 68/150\n",
      "34/34 [==============================] - 117s 3s/step - loss: 0.2285 - accuracy: 0.9216 - precision_3: 0.9520 - recall_3: 0.8871 - val_loss: 0.3718 - val_accuracy: 0.8918 - val_precision_3: 0.9036 - val_recall_3: 0.8396 - lr: 1.0000e-04\n",
      "Epoch 69/150\n",
      "34/34 [==============================] - 118s 3s/step - loss: 0.2184 - accuracy: 0.9282 - precision_3: 0.9570 - recall_3: 0.8927 - val_loss: 0.3786 - val_accuracy: 0.8806 - val_precision_3: 0.8988 - val_recall_3: 0.8619 - lr: 1.0000e-04\n",
      "Epoch 70/150\n",
      "34/34 [==============================] - 126s 4s/step - loss: 0.2157 - accuracy: 0.9272 - precision_3: 0.9570 - recall_3: 0.8937 - val_loss: 0.3690 - val_accuracy: 0.8881 - val_precision_3: 0.9116 - val_recall_3: 0.8470 - lr: 1.0000e-04\n",
      "Epoch 71/150\n",
      "34/34 [==============================] - 262s 8s/step - loss: 0.2153 - accuracy: 0.9272 - precision_3: 0.9629 - recall_3: 0.8955 - val_loss: 0.3408 - val_accuracy: 0.8918 - val_precision_3: 0.9170 - val_recall_3: 0.8657 - lr: 1.0000e-04\n",
      "Epoch 72/150\n",
      "34/34 [==============================] - 244s 7s/step - loss: 0.2152 - accuracy: 0.9282 - precision_3: 0.9534 - recall_3: 0.8974 - val_loss: 0.3448 - val_accuracy: 0.8918 - val_precision_3: 0.9031 - val_recall_3: 0.8694 - lr: 1.0000e-04\n",
      "Epoch 73/150\n",
      "34/34 [==============================] - 261s 8s/step - loss: 0.2150 - accuracy: 0.9254 - precision_3: 0.9564 - recall_3: 0.9002 - val_loss: 0.3620 - val_accuracy: 0.8955 - val_precision_3: 0.9176 - val_recall_3: 0.8731 - lr: 1.0000e-04\n",
      "Epoch 74/150\n",
      "34/34 [==============================] - 265s 8s/step - loss: 0.2121 - accuracy: 0.9347 - precision_3: 0.9525 - recall_3: 0.8974 - val_loss: 0.3650 - val_accuracy: 0.8881 - val_precision_3: 0.9209 - val_recall_3: 0.8694 - lr: 1.0000e-04\n",
      "Epoch 75/150\n",
      "34/34 [==============================] - 256s 8s/step - loss: 0.2058 - accuracy: 0.9338 - precision_3: 0.9633 - recall_3: 0.9058 - val_loss: 0.3367 - val_accuracy: 0.8881 - val_precision_3: 0.9147 - val_recall_3: 0.8806 - lr: 1.0000e-04\n",
      "Epoch 76/150\n",
      "34/34 [==============================] - 258s 8s/step - loss: 0.2115 - accuracy: 0.9254 - precision_3: 0.9581 - recall_3: 0.8965 - val_loss: 0.3682 - val_accuracy: 0.8881 - val_precision_3: 0.9153 - val_recall_3: 0.8470 - lr: 1.0000e-04\n",
      "Epoch 77/150\n",
      "34/34 [==============================] - 182s 5s/step - loss: 0.2050 - accuracy: 0.9338 - precision_3: 0.9545 - recall_3: 0.9011 - val_loss: 0.4072 - val_accuracy: 0.8694 - val_precision_3: 0.8980 - val_recall_3: 0.8545 - lr: 1.0000e-04\n",
      "Epoch 78/150\n",
      "34/34 [==============================] - 165s 5s/step - loss: 0.2059 - accuracy: 0.9291 - precision_3: 0.9620 - recall_3: 0.8983 - val_loss: 0.3492 - val_accuracy: 0.8955 - val_precision_3: 0.9170 - val_recall_3: 0.8657 - lr: 1.0000e-04\n",
      "Epoch 79/150\n",
      "34/34 [==============================] - 122s 4s/step - loss: 0.2071 - accuracy: 0.9328 - precision_3: 0.9573 - recall_3: 0.8993 - val_loss: 0.3564 - val_accuracy: 0.8955 - val_precision_3: 0.9176 - val_recall_3: 0.8731 - lr: 1.0000e-04\n",
      "Epoch 80/150\n",
      "34/34 [==============================] - 153s 5s/step - loss: 0.2094 - accuracy: 0.9356 - precision_3: 0.9556 - recall_3: 0.9039 - val_loss: 0.3705 - val_accuracy: 0.8881 - val_precision_3: 0.9219 - val_recall_3: 0.8806 - lr: 1.0000e-04\n",
      "Epoch 81/150\n",
      "34/34 [==============================] - 114s 3s/step - loss: 0.2039 - accuracy: 0.9272 - precision_3: 0.9594 - recall_3: 0.9039 - val_loss: 0.4006 - val_accuracy: 0.8806 - val_precision_3: 0.8949 - val_recall_3: 0.8582 - lr: 1.0000e-04\n",
      "Epoch 82/150\n",
      "34/34 [==============================] - 108s 3s/step - loss: 0.2068 - accuracy: 0.9328 - precision_3: 0.9536 - recall_3: 0.9021 - val_loss: 0.3319 - val_accuracy: 0.8843 - val_precision_3: 0.9170 - val_recall_3: 0.8657 - lr: 1.0000e-04\n",
      "Epoch 83/150\n",
      "34/34 [==============================] - 118s 3s/step - loss: 0.2049 - accuracy: 0.9338 - precision_3: 0.9593 - recall_3: 0.9011 - val_loss: 0.3370 - val_accuracy: 0.8955 - val_precision_3: 0.9209 - val_recall_3: 0.8694 - lr: 1.0000e-04\n",
      "Epoch 84/150\n",
      "34/34 [==============================] - 121s 4s/step - loss: 0.1965 - accuracy: 0.9394 - precision_3: 0.9655 - recall_3: 0.9132 - val_loss: 0.3337 - val_accuracy: 0.8918 - val_precision_3: 0.9176 - val_recall_3: 0.8731 - lr: 1.0000e-04\n",
      "Epoch 85/150\n",
      "34/34 [==============================] - 121s 4s/step - loss: 0.1946 - accuracy: 0.9366 - precision_3: 0.9633 - recall_3: 0.9067 - val_loss: 0.3445 - val_accuracy: 0.8881 - val_precision_3: 0.9127 - val_recall_3: 0.8582 - lr: 1.0000e-04\n",
      "Epoch 86/150\n",
      "34/34 [==============================] - 116s 3s/step - loss: 0.1990 - accuracy: 0.9394 - precision_3: 0.9595 - recall_3: 0.9067 - val_loss: 0.3387 - val_accuracy: 0.8955 - val_precision_3: 0.9070 - val_recall_3: 0.8731 - lr: 1.0000e-04\n",
      "Epoch 87/150\n",
      "34/34 [==============================] - 116s 3s/step - loss: 0.2005 - accuracy: 0.9366 - precision_3: 0.9604 - recall_3: 0.9049 - val_loss: 0.3806 - val_accuracy: 0.8955 - val_precision_3: 0.9080 - val_recall_3: 0.8470 - lr: 1.0000e-04\n",
      "Epoch 88/150\n",
      "34/34 [==============================] - 115s 3s/step - loss: 0.1959 - accuracy: 0.9328 - precision_3: 0.9569 - recall_3: 0.9114 - val_loss: 0.3546 - val_accuracy: 0.8918 - val_precision_3: 0.9197 - val_recall_3: 0.8545 - lr: 1.0000e-04\n",
      "Epoch 89/150\n",
      "34/34 [==============================] - 117s 3s/step - loss: 0.1946 - accuracy: 0.9394 - precision_3: 0.9614 - recall_3: 0.9067 - val_loss: 0.3318 - val_accuracy: 0.8881 - val_precision_3: 0.9105 - val_recall_3: 0.8731 - lr: 1.0000e-04\n",
      "Epoch 90/150\n",
      "34/34 [==============================] - 117s 3s/step - loss: 0.1995 - accuracy: 0.9291 - precision_3: 0.9549 - recall_3: 0.9095 - val_loss: 0.3501 - val_accuracy: 0.8918 - val_precision_3: 0.9144 - val_recall_3: 0.8769 - lr: 1.0000e-04\n",
      "Epoch 91/150\n",
      "34/34 [==============================] - 117s 3s/step - loss: 0.1994 - accuracy: 0.9366 - precision_3: 0.9605 - recall_3: 0.9067 - val_loss: 0.3755 - val_accuracy: 0.8918 - val_precision_3: 0.9098 - val_recall_3: 0.8657 - lr: 1.0000e-04\n",
      "Epoch 92/150\n",
      "34/34 [==============================] - 116s 3s/step - loss: 0.1915 - accuracy: 0.9384 - precision_3: 0.9604 - recall_3: 0.9039 - val_loss: 0.3451 - val_accuracy: 0.8881 - val_precision_3: 0.9176 - val_recall_3: 0.8731 - lr: 1.0000e-04\n",
      "Epoch 93/150\n",
      "34/34 [==============================] - 116s 3s/step - loss: 0.1902 - accuracy: 0.9394 - precision_3: 0.9644 - recall_3: 0.9104 - val_loss: 0.3291 - val_accuracy: 0.8918 - val_precision_3: 0.9216 - val_recall_3: 0.8769 - lr: 1.0000e-04\n",
      "Epoch 94/150\n",
      "34/34 [==============================] - 117s 3s/step - loss: 0.1942 - accuracy: 0.9356 - precision_3: 0.9577 - recall_3: 0.9076 - val_loss: 0.3475 - val_accuracy: 0.8955 - val_precision_3: 0.9249 - val_recall_3: 0.8731 - lr: 1.0000e-04\n",
      "Epoch 95/150\n",
      "34/34 [==============================] - 169s 5s/step - loss: 0.1847 - accuracy: 0.9384 - precision_3: 0.9617 - recall_3: 0.9123 - val_loss: 0.3372 - val_accuracy: 0.8955 - val_precision_3: 0.9070 - val_recall_3: 0.8731 - lr: 1.0000e-04\n",
      "Epoch 96/150\n",
      "34/34 [==============================] - 121s 4s/step - loss: 0.1887 - accuracy: 0.9412 - precision_3: 0.9607 - recall_3: 0.9132 - val_loss: 0.3257 - val_accuracy: 0.8881 - val_precision_3: 0.9180 - val_recall_3: 0.8769 - lr: 1.0000e-04\n",
      "Epoch 97/150\n",
      "34/34 [==============================] - 118s 3s/step - loss: 0.1826 - accuracy: 0.9440 - precision_3: 0.9572 - recall_3: 0.9179 - val_loss: 0.3311 - val_accuracy: 0.8918 - val_precision_3: 0.9112 - val_recall_3: 0.8806 - lr: 1.0000e-04\n",
      "Epoch 98/150\n",
      "34/34 [==============================] - 118s 3s/step - loss: 0.1863 - accuracy: 0.9347 - precision_3: 0.9605 - recall_3: 0.9076 - val_loss: 0.3436 - val_accuracy: 0.8955 - val_precision_3: 0.9042 - val_recall_3: 0.8806 - lr: 1.0000e-04\n",
      "Epoch 99/150\n",
      "34/34 [==============================] - 121s 4s/step - loss: 0.1814 - accuracy: 0.9403 - precision_3: 0.9648 - recall_3: 0.9198 - val_loss: 0.3286 - val_accuracy: 0.8918 - val_precision_3: 0.9213 - val_recall_3: 0.8731 - lr: 1.0000e-04\n",
      "Epoch 100/150\n",
      "34/34 [==============================] - 119s 4s/step - loss: 0.1814 - accuracy: 0.9431 - precision_3: 0.9659 - recall_3: 0.9235 - val_loss: 0.3413 - val_accuracy: 0.8881 - val_precision_3: 0.9213 - val_recall_3: 0.8731 - lr: 1.0000e-04\n",
      "Epoch 101/150\n",
      "34/34 [==============================] - 122s 4s/step - loss: 0.1788 - accuracy: 0.9440 - precision_3: 0.9664 - recall_3: 0.9114 - val_loss: 0.3964 - val_accuracy: 0.8843 - val_precision_3: 0.9062 - val_recall_3: 0.8657 - lr: 1.0000e-04\n",
      "Epoch 102/150\n",
      "34/34 [==============================] - 124s 4s/step - loss: 0.1890 - accuracy: 0.9394 - precision_3: 0.9608 - recall_3: 0.9151 - val_loss: 0.3367 - val_accuracy: 0.8955 - val_precision_3: 0.9255 - val_recall_3: 0.8806 - lr: 1.0000e-04\n",
      "Epoch 103/150\n",
      "34/34 [==============================] - ETA: 0s - loss: 0.1855 - accuracy: 0.9403 - precision_3: 0.9646 - recall_3: 0.9151\n",
      "Epoch 103: ReduceLROnPlateau reducing learning rate to 1.0000000474974514e-05.\n",
      "34/34 [==============================] - 118s 3s/step - loss: 0.1855 - accuracy: 0.9403 - precision_3: 0.9646 - recall_3: 0.9151 - val_loss: 0.3536 - val_accuracy: 0.8955 - val_precision_3: 0.9219 - val_recall_3: 0.8806 - lr: 1.0000e-04\n",
      "Epoch 104/150\n",
      "34/34 [==============================] - 118s 3s/step - loss: 0.1706 - accuracy: 0.9478 - precision_3: 0.9734 - recall_3: 0.9207 - val_loss: 0.3323 - val_accuracy: 0.8881 - val_precision_3: 0.9109 - val_recall_3: 0.8769 - lr: 1.0000e-05\n",
      "Epoch 105/150\n",
      "34/34 [==============================] - 118s 3s/step - loss: 0.1654 - accuracy: 0.9487 - precision_3: 0.9679 - recall_3: 0.9282 - val_loss: 0.3309 - val_accuracy: 0.8918 - val_precision_3: 0.9141 - val_recall_3: 0.8731 - lr: 1.0000e-05\n",
      "Epoch 106/150\n",
      "34/34 [==============================] - 163s 5s/step - loss: 0.1650 - accuracy: 0.9496 - precision_3: 0.9727 - recall_3: 0.9300 - val_loss: 0.3318 - val_accuracy: 0.8881 - val_precision_3: 0.9109 - val_recall_3: 0.8769 - lr: 1.0000e-05\n"
     ]
    },
    {
     "name": "stderr",
     "output_type": "stream",
     "text": [
      "WARNING:absl:Found untraced functions such as _jit_compiled_convolution_op, _jit_compiled_convolution_op, _jit_compiled_convolution_op, _jit_compiled_convolution_op, _jit_compiled_convolution_op while saving (showing 5 of 53). These functions will not be directly callable after loading.\n"
     ]
    },
    {
     "name": "stdout",
     "output_type": "stream",
     "text": [
      "INFO:tensorflow:Assets written to: ram://938caf19-4c4b-4b81-b9fe-df87068858f0/assets\n"
     ]
    },
    {
     "name": "stderr",
     "output_type": "stream",
     "text": [
      "INFO:tensorflow:Assets written to: ram://938caf19-4c4b-4b81-b9fe-df87068858f0/assets\n"
     ]
    },
    {
     "name": "stdout",
     "output_type": "stream",
     "text": [
      "9/9 [==============================] - 19s 2s/step\n"
     ]
    }
   ],
   "source": [
    "accuracies = []\n",
    "losses = []\n",
    "val_accuracies = []\n",
    "val_losses = []\n",
    "\n",
    "from sklearn.model_selection import train_test_split\n",
    "\n",
    "df = pd.DataFrame({'paths':data, 'labels':labels}).astype(str)\n",
    "X_train, X_val, y_train, y_val = train_test_split(data, labels, test_size=0.20, shuffle=True)\n",
    "\n",
    "# # Dividindo os dados em treino e validação\n",
    "# train_data = data\n",
    "# train_labels = labels\n",
    "df_train = pd.DataFrame({'paths':X_train, 'labels':y_train}).astype(str)\n",
    "df_val = pd.DataFrame({'paths':X_val, 'labels':y_val}).astype(str)\n",
    "\n",
    "# # Dividindo os dados em treino e validação\n",
    "# val_data = data[1073:]\n",
    "# val_labels = labels[1073:]\n",
    "# df_val = pd.DataFrame({'paths':val_data, 'labels':val_labels}).astype(str)\n",
    "\n",
    "# Gerador de dados\n",
    "datagen = ImageDataGenerator(rescale=1./255)\n",
    "\n",
    "# Geradores de dados\n",
    "train_generator = datagen.flow_from_dataframe(\n",
    "    dataframe=df_train,\n",
    "    directory=diretorio_base,\n",
    "    x_col='paths',\n",
    "    y_col='labels',\n",
    "    target_size=(224, 224),\n",
    "    batch_size=batch_size,\n",
    "    class_mode='categorical',\n",
    "    shuffle=False)\n",
    "\n",
    "val_generator = datagen.flow_from_dataframe(\n",
    "    dataframe=df_val,\n",
    "    directory=diretorio_base,\n",
    "    x_col='paths',\n",
    "    y_col='labels',\n",
    "    target_size=(224, 224),\n",
    "    batch_size=batch_size,\n",
    "    class_mode='categorical',\n",
    "    shuffle=False\n",
    ")\n",
    "\n",
    "# Criar o modelo\n",
    "model = create_model()\n",
    "\n",
    "# Callbacks\n",
    "early_stopping = EarlyStopping(patience=10, monitor='val_loss', mode='min')\n",
    "mcp_save = ModelCheckpoint(f'best_model_com_blurred_sharp_150.h5', save_best_only=False, monitor='val_loss', mode='min')\n",
    "reduce_lr_loss = ReduceLROnPlateau(monitor='val_loss', factor=0.1, patience=7, verbose=1, min_delta=1e-4, mode='min')\n",
    "\n",
    "# Treinar o modelo\n",
    "history = model.fit(\n",
    "    train_generator,\n",
    "    validation_data=val_generator,\n",
    "    epochs=epochs,\n",
    "    callbacks=[early_stopping, mcp_save, reduce_lr_loss]\n",
    ")\n",
    "\n",
    "with open('history_com_trat_com_blurred_sharp.pickle', 'wb') as handle:\n",
    "    pickle.dump(history, handle)\n",
    "    \n",
    "# Armazenar os resultados\n",
    "accuracies.append(history.history['accuracy'])\n",
    "losses.append(history.history['loss'])\n",
    "val_accuracies.append(history.history['val_accuracy'])\n",
    "val_losses.append(history.history['val_loss'])\n",
    "\n",
    "# Fazer previsões no conjunto de validação\n",
    "val_preds = model.predict(val_generator)\n",
    "val_preds_classes = np.argmax(val_preds, axis=1)\n",
    "val_true_classes = val_generator.classes\n"
   ]
  },
  {
   "cell_type": "code",
   "execution_count": 37,
   "id": "8a0243ec-4030-4ac0-91b6-bfefbf36cdb4",
   "metadata": {},
   "outputs": [
    {
     "data": {
      "text/plain": [
       "0.8476397501972487"
      ]
     },
     "execution_count": 37,
     "metadata": {},
     "output_type": "execute_result"
    }
   ],
   "source": [
    "np.mean(history.history['accuracy'])"
   ]
  },
  {
   "cell_type": "code",
   "execution_count": 38,
   "id": "7dfbb533-7753-4d68-857f-0b34e77ec765",
   "metadata": {},
   "outputs": [],
   "source": [
    "from sklearn.metrics import classification_report"
   ]
  },
  {
   "cell_type": "code",
   "execution_count": 39,
   "id": "084a3a6c-ff39-44f9-9c8c-09ef845c3842",
   "metadata": {},
   "outputs": [],
   "source": [
    "# # Gerar e salvar o relatório de classificação\n",
    "# report = classification_report(val_true_classes, val_preds_classes, target_names=val_generator.class_indices.keys(),output_dict=True)\n",
    "# with open(f'classification_report_com_blurred_sharp.txt', 'w') as f:\n",
    "#     f.write(report)"
   ]
  },
  {
   "cell_type": "code",
   "execution_count": 36,
   "id": "a39624ff-60eb-44f2-b13c-52ae5e60c8d7",
   "metadata": {},
   "outputs": [],
   "source": [
    "report = classification_report(val_true_classes, val_preds_classes, target_names=val_generator.class_indices.keys(),output_dict=True)"
   ]
  },
  {
   "cell_type": "code",
   "execution_count": 27,
   "id": "e1cd4660-12ff-460a-b64f-1e225430b8cc",
   "metadata": {},
   "outputs": [],
   "source": [
    "pd.DataFrame(report).to_csv('classification_report_com_blurred_sharp.csv')"
   ]
  },
  {
   "cell_type": "code",
   "execution_count": 40,
   "id": "8fe81584-bb0b-4ff9-9f20-64a6ff0d2a3c",
   "metadata": {},
   "outputs": [
    {
     "data": {
      "text/html": [
       "<div>\n",
       "<style scoped>\n",
       "    .dataframe tbody tr th:only-of-type {\n",
       "        vertical-align: middle;\n",
       "    }\n",
       "\n",
       "    .dataframe tbody tr th {\n",
       "        vertical-align: top;\n",
       "    }\n",
       "\n",
       "    .dataframe thead th {\n",
       "        text-align: right;\n",
       "    }\n",
       "</style>\n",
       "<table border=\"1\" class=\"dataframe\">\n",
       "  <thead>\n",
       "    <tr style=\"text-align: right;\">\n",
       "      <th></th>\n",
       "      <th>1</th>\n",
       "      <th>2</th>\n",
       "      <th>3</th>\n",
       "      <th>4</th>\n",
       "      <th>5</th>\n",
       "      <th>accuracy</th>\n",
       "      <th>macro avg</th>\n",
       "      <th>weighted avg</th>\n",
       "    </tr>\n",
       "  </thead>\n",
       "  <tbody>\n",
       "    <tr>\n",
       "      <th>precision</th>\n",
       "      <td>0.819444</td>\n",
       "      <td>0.951613</td>\n",
       "      <td>0.823529</td>\n",
       "      <td>0.863636</td>\n",
       "      <td>0.964286</td>\n",
       "      <td>0.88806</td>\n",
       "      <td>0.884502</td>\n",
       "      <td>0.889638</td>\n",
       "    </tr>\n",
       "    <tr>\n",
       "      <th>recall</th>\n",
       "      <td>0.951613</td>\n",
       "      <td>0.951613</td>\n",
       "      <td>0.666667</td>\n",
       "      <td>0.883721</td>\n",
       "      <td>0.915254</td>\n",
       "      <td>0.88806</td>\n",
       "      <td>0.873774</td>\n",
       "      <td>0.888060</td>\n",
       "    </tr>\n",
       "    <tr>\n",
       "      <th>f1-score</th>\n",
       "      <td>0.880597</td>\n",
       "      <td>0.951613</td>\n",
       "      <td>0.736842</td>\n",
       "      <td>0.873563</td>\n",
       "      <td>0.939130</td>\n",
       "      <td>0.88806</td>\n",
       "      <td>0.876349</td>\n",
       "      <td>0.886255</td>\n",
       "    </tr>\n",
       "    <tr>\n",
       "      <th>support</th>\n",
       "      <td>62.000000</td>\n",
       "      <td>62.000000</td>\n",
       "      <td>42.000000</td>\n",
       "      <td>43.000000</td>\n",
       "      <td>59.000000</td>\n",
       "      <td>0.88806</td>\n",
       "      <td>268.000000</td>\n",
       "      <td>268.000000</td>\n",
       "    </tr>\n",
       "  </tbody>\n",
       "</table>\n",
       "</div>"
      ],
      "text/plain": [
       "                   1          2          3          4          5  accuracy  \\\n",
       "precision   0.819444   0.951613   0.823529   0.863636   0.964286   0.88806   \n",
       "recall      0.951613   0.951613   0.666667   0.883721   0.915254   0.88806   \n",
       "f1-score    0.880597   0.951613   0.736842   0.873563   0.939130   0.88806   \n",
       "support    62.000000  62.000000  42.000000  43.000000  59.000000   0.88806   \n",
       "\n",
       "            macro avg  weighted avg  \n",
       "precision    0.884502      0.889638  \n",
       "recall       0.873774      0.888060  \n",
       "f1-score     0.876349      0.886255  \n",
       "support    268.000000    268.000000  "
      ]
     },
     "execution_count": 40,
     "metadata": {},
     "output_type": "execute_result"
    }
   ],
   "source": [
    "pd.DataFrame(report)"
   ]
  },
  {
   "cell_type": "markdown",
   "id": "42e9ff06-63f3-48de-ad1e-7b96429cf7ee",
   "metadata": {},
   "source": [
    "### Resnet 50 V2"
   ]
  },
  {
   "cell_type": "code",
   "execution_count": 29,
   "id": "dffc75eb-a001-49c4-ac5c-f0893c676154",
   "metadata": {},
   "outputs": [],
   "source": [
    "versao = 'com_blurred_sharp_150_noweigths'"
   ]
  },
  {
   "cell_type": "code",
   "execution_count": 30,
   "id": "e36c1a37-e52f-4cea-b4d7-3c87ddbb9dad",
   "metadata": {},
   "outputs": [],
   "source": [
    "# Função para criar o modelo\n",
    "import tensorflow as tf\n",
    "from tensorflow.keras.applications import ResNet50V2\n",
    "\n",
    "def create_model_v2():\n",
    "    base_model = ResNet50(include_top=False, input_shape=input_shape, weights=None)\n",
    "    \n",
    "    for layer in base_model.layers:\n",
    "        layer.trainable=False\n",
    "        \n",
    "    model = Sequential([\n",
    "        base_model,\n",
    "        GlobalAveragePooling2D(),\n",
    "        Dense(1024, activation='relu'),\n",
    "        Dense(1024, activation='relu'),\n",
    "        Dense(num_classes, activation='softmax')\n",
    "    ])\n",
    "    \n",
    "    model.compile(optimizer=Adam(learning_rate=0.001), loss='categorical_crossentropy', metrics=['accuracy',\n",
    "                                                                                                 tf.keras.metrics.Precision(),\n",
    "                                                                                                 tf.keras.metrics.Recall()])\n",
    "    \n",
    "    return model\n",
    "\n",
    "def create_model_resnet50():\n",
    "    base_model = ResNet50(include_top=False, input_shape=input_shape, weights=None)\n",
    "    \n",
    "    for layer in base_model.layers:\n",
    "        layer.trainable=False\n",
    "        \n",
    "    model = Sequential([\n",
    "        base_model,\n",
    "        # GlobalAveragePooling2D(),\n",
    "        # Dense(1024, activation='relu'),\n",
    "        # Dense(1024, activation='relu'),\n",
    "        Dense(num_classes, activation='softmax')\n",
    "    ])\n",
    "    \n",
    "    model.compile(optimizer=Adam(learning_rate=0.001), loss='categorical_crossentropy', metrics=['accuracy',\n",
    "                                                                                                 tf.keras.metrics.Precision(),\n",
    "                                                                                                 tf.keras.metrics.Recall()])\n",
    "    \n",
    "    return model"
   ]
  },
  {
   "cell_type": "code",
   "execution_count": 31,
   "id": "160e5ea1-0dd4-4215-b4c7-3e19c3091b80",
   "metadata": {
    "scrolled": true
   },
   "outputs": [
    {
     "name": "stdout",
     "output_type": "stream",
     "text": [
      "Found 1072 validated image filenames belonging to 5 classes.\n",
      "Found 268 validated image filenames belonging to 5 classes.\n",
      "Epoch 1/150\n",
      "34/34 [==============================] - 245s 7s/step - loss: 1.5984 - accuracy: 0.2304 - precision_2: 0.0000e+00 - recall_2: 0.0000e+00 - val_loss: 1.5754 - val_accuracy: 0.2575 - val_precision_2: 0.0000e+00 - val_recall_2: 0.0000e+00 - lr: 0.0010\n",
      "Epoch 2/150\n",
      "34/34 [==============================] - 240s 7s/step - loss: 1.5926 - accuracy: 0.2537 - precision_2: 0.0000e+00 - recall_2: 0.0000e+00 - val_loss: 1.5703 - val_accuracy: 0.3022 - val_precision_2: 0.0000e+00 - val_recall_2: 0.0000e+00 - lr: 0.0010\n",
      "Epoch 3/150\n",
      "34/34 [==============================] - 232s 7s/step - loss: 1.5830 - accuracy: 0.2715 - precision_2: 0.0000e+00 - recall_2: 0.0000e+00 - val_loss: 1.5515 - val_accuracy: 0.3134 - val_precision_2: 0.0000e+00 - val_recall_2: 0.0000e+00 - lr: 0.0010\n",
      "Epoch 4/150\n",
      "34/34 [==============================] - 241s 7s/step - loss: 1.5725 - accuracy: 0.2910 - precision_2: 0.0000e+00 - recall_2: 0.0000e+00 - val_loss: 1.5418 - val_accuracy: 0.2724 - val_precision_2: 0.0000e+00 - val_recall_2: 0.0000e+00 - lr: 0.0010\n",
      "Epoch 5/150\n",
      "34/34 [==============================] - 234s 7s/step - loss: 1.5528 - accuracy: 0.2854 - precision_2: 0.0000e+00 - recall_2: 0.0000e+00 - val_loss: 1.5136 - val_accuracy: 0.2649 - val_precision_2: 0.0000e+00 - val_recall_2: 0.0000e+00 - lr: 0.0010\n",
      "Epoch 6/150\n",
      "34/34 [==============================] - 238s 7s/step - loss: 1.5269 - accuracy: 0.3265 - precision_2: 0.0000e+00 - recall_2: 0.0000e+00 - val_loss: 1.4773 - val_accuracy: 0.2985 - val_precision_2: 0.0000e+00 - val_recall_2: 0.0000e+00 - lr: 0.0010\n",
      "Epoch 7/150\n",
      "34/34 [==============================] - 233s 7s/step - loss: 1.4871 - accuracy: 0.3526 - precision_2: 0.8667 - recall_2: 0.0121 - val_loss: 1.4001 - val_accuracy: 0.4552 - val_precision_2: 1.0000 - val_recall_2: 0.0373 - lr: 0.0010\n",
      "Epoch 8/150\n",
      "34/34 [==============================] - 247s 7s/step - loss: 1.4379 - accuracy: 0.3769 - precision_2: 0.8721 - recall_2: 0.0700 - val_loss: 1.3433 - val_accuracy: 0.4701 - val_precision_2: 0.9167 - val_recall_2: 0.1231 - lr: 0.0010\n",
      "Epoch 9/150\n",
      "34/34 [==============================] - 232s 7s/step - loss: 1.3783 - accuracy: 0.4049 - precision_2: 0.8478 - recall_2: 0.1091 - val_loss: 1.2976 - val_accuracy: 0.4478 - val_precision_2: 0.8846 - val_recall_2: 0.1716 - lr: 0.0010\n",
      "Epoch 10/150\n",
      "34/34 [==============================] - 234s 7s/step - loss: 1.3235 - accuracy: 0.4394 - precision_2: 0.8033 - recall_2: 0.1371 - val_loss: 1.2454 - val_accuracy: 0.4925 - val_precision_2: 0.8727 - val_recall_2: 0.1791 - lr: 0.0010\n",
      "Epoch 11/150\n",
      "34/34 [==============================] - 230s 7s/step - loss: 1.2824 - accuracy: 0.4627 - precision_2: 0.8298 - recall_2: 0.1455 - val_loss: 1.2004 - val_accuracy: 0.4851 - val_precision_2: 0.8889 - val_recall_2: 0.1791 - lr: 0.0010\n",
      "Epoch 12/150\n",
      "34/34 [==============================] - 235s 7s/step - loss: 1.2732 - accuracy: 0.4571 - precision_2: 0.7844 - recall_2: 0.1595 - val_loss: 1.2156 - val_accuracy: 0.5037 - val_precision_2: 0.9149 - val_recall_2: 0.1604 - lr: 0.0010\n",
      "Epoch 13/150\n",
      "34/34 [==============================] - 165s 5s/step - loss: 1.2535 - accuracy: 0.4888 - precision_2: 0.8349 - recall_2: 0.1651 - val_loss: 1.1648 - val_accuracy: 0.5485 - val_precision_2: 0.8525 - val_recall_2: 0.1940 - lr: 0.0010\n",
      "Epoch 14/150\n",
      " 2/34 [>.............................] - ETA: 1:55 - loss: 1.1224 - accuracy: 0.5938 - precision_2: 0.9333 - recall_2: 0.2188"
     ]
    },
    {
     "name": "stderr",
     "output_type": "stream",
     "text": [
      "\n",
      "KeyboardInterrupt\n",
      "\n"
     ]
    }
   ],
   "source": [
    "accuracies = []\n",
    "losses = []\n",
    "val_accuracies = []\n",
    "val_losses = []\n",
    "\n",
    "from sklearn.model_selection import train_test_split\n",
    "\n",
    "df = pd.DataFrame({'paths':data, 'labels':labels}).astype(str)\n",
    "X_train, X_val, y_train, y_val = train_test_split(data, labels, test_size=0.20, shuffle=True)\n",
    "\n",
    "# # Dividindo os dados em treino e validação\n",
    "# train_data = data\n",
    "# train_labels = labels\n",
    "df_train = pd.DataFrame({'paths':X_train, 'labels':y_train}).astype(str)\n",
    "df_val = pd.DataFrame({'paths':X_val, 'labels':y_val}).astype(str)\n",
    "\n",
    "# # Dividindo os dados em treino e validação\n",
    "# val_data = data[1073:]\n",
    "# val_labels = labels[1073:]\n",
    "# df_val = pd.DataFrame({'paths':val_data, 'labels':val_labels}).astype(str)\n",
    "\n",
    "# Gerador de dados\n",
    "datagen = ImageDataGenerator(rescale=1./255)\n",
    "\n",
    "# Geradores de dados\n",
    "train_generator = datagen.flow_from_dataframe(\n",
    "    dataframe=df_train,\n",
    "    directory=diretorio_base,\n",
    "    x_col='paths',\n",
    "    y_col='labels',\n",
    "    target_size=(224, 224),\n",
    "    batch_size=batch_size,\n",
    "    class_mode='categorical',\n",
    "    shuffle=False)\n",
    "\n",
    "val_generator = datagen.flow_from_dataframe(\n",
    "    dataframe=df_val,\n",
    "    directory=diretorio_base,\n",
    "    x_col='paths',\n",
    "    y_col='labels',\n",
    "    target_size=(224, 224),\n",
    "    batch_size=batch_size,\n",
    "    class_mode='categorical',\n",
    "    shuffle=False\n",
    ")\n",
    "\n",
    "# Criar o modelo\n",
    "model = create_model_v2()\n",
    "\n",
    "# Callbacks\n",
    "early_stopping = EarlyStopping(patience=10, monitor='val_loss', mode='min')\n",
    "mcp_save = ModelCheckpoint(f'best_model_{versao}.h5', save_best_only=False, monitor='val_loss', mode='min')\n",
    "reduce_lr_loss = ReduceLROnPlateau(monitor='val_loss', factor=0.1, patience=7, verbose=1, min_delta=1e-4, mode='min')\n",
    "\n",
    "# Treinar o modelo\n",
    "history = model.fit(\n",
    "    train_generator,\n",
    "    validation_data=val_generator,\n",
    "    epochs=epochs,\n",
    "    callbacks=[early_stopping, mcp_save, reduce_lr_loss]\n",
    ")\n",
    "\n",
    "\n",
    "# Armazenar os resultados\n",
    "accuracies.append(history.history['accuracy'])\n",
    "losses.append(history.history['loss'])\n",
    "val_accuracies.append(history.history['val_accuracy'])\n",
    "val_losses.append(history.history['val_loss'])\n",
    "\n",
    "# Fazer previsões no conjunto de validação\n",
    "val_preds = model.predict(val_generator)\n",
    "val_preds_classes = np.argmax(val_preds, axis=1)\n",
    "val_true_classes = val_generator.classes\n"
   ]
  },
  {
   "cell_type": "code",
   "execution_count": null,
   "id": "c9eda3d1-e0a9-4d11-9d55-d26659adb9da",
   "metadata": {},
   "outputs": [],
   "source": [
    "from sklearn.metrics import classification_report,roc_auc_score\n",
    "\n",
    "# Gerar e salvar o relatório de classificação\n",
    "report = classification_report(val_true_classes, val_preds_classes, target_names=val_generator.class_indices.keys())\n",
    "with open(f'classification_report_fold_{versao}.txt', 'w') as f:\n",
    "    f.write(report)\n",
    "\n",
    "with open(f'history_{versao}.pickle', 'wb') as handle:\n",
    "    pickle.dump(history, handle)"
   ]
  },
  {
   "cell_type": "code",
   "execution_count": null,
   "id": "7bf6a4f0-13e7-40bc-a16f-4599230fb64f",
   "metadata": {},
   "outputs": [],
   "source": [
    "!pip install netron"
   ]
  },
  {
   "cell_type": "code",
   "execution_count": null,
   "id": "d96352cd-d013-468d-998b-fbe9e09f7ef6",
   "metadata": {},
   "outputs": [],
   "source": [
    "import netron\n",
    "\n",
    "netron.start('best_model_fold_1_150epochs.h5')\n"
   ]
  },
  {
   "cell_type": "code",
   "execution_count": null,
   "id": "e82e60e9-be0b-4431-9b7c-1fc85d82be0c",
   "metadata": {},
   "outputs": [],
   "source": [
    "!pip install pydot"
   ]
  },
  {
   "cell_type": "code",
   "execution_count": null,
   "id": "1b0e12e7-1992-41bb-8bf0-2d4979be174f",
   "metadata": {},
   "outputs": [],
   "source": [
    "!pip install graphviz"
   ]
  },
  {
   "cell_type": "code",
   "execution_count": null,
   "id": "02b81b2c-d107-464a-8966-3dbaf2b599bf",
   "metadata": {},
   "outputs": [],
   "source": [
    "plot_model(\n",
    "    model,\n",
    "    to_file=\"model.png\",\n",
    "    show_shapes=True,\n",
    "    show_dtype=False,\n",
    "    show_layer_names=True,\n",
    "    rankdir=\"TB\",\n",
    "    expand_nested=False,\n",
    "    dpi=200,\n",
    "    show_layer_activations=True)\n"
   ]
  },
  {
   "cell_type": "markdown",
   "id": "77c14bf6-dd96-4a64-a6cd-75d7e58d7dd8",
   "metadata": {},
   "source": [
    "### Validation"
   ]
  },
  {
   "cell_type": "code",
   "execution_count": null,
   "id": "3eb848c5-a126-4dcc-8ef6-a6483fa0e8d1",
   "metadata": {},
   "outputs": [],
   "source": [
    "from sklearn.metrics import classification_report\n",
    "\n",
    "val_generator = datagen.flow_from_dataframe(\n",
    "    dataframe=df_val,\n",
    "    directory=diretorio_base,\n",
    "    x_col='paths',\n",
    "    y_col='labels',\n",
    "    target_size=(224, 224),\n",
    "    batch_size=batch_size,\n",
    "    class_mode='categorical',\n",
    "    shuffle=False\n",
    ")\n",
    "\n",
    "\n",
    "# Fazer previsões no conjunto de validação\n",
    "val_preds = model.predict(val_generator)\n",
    "val_preds_classes = np.argmax(val_preds, axis=1)\n",
    "val_true_classes = val_generator.classes\n",
    "\n",
    "# Gerar e salvar o relatório de classificação\n",
    "report = classification_report(val_true_classes, val_preds_classes, target_names=val_generator.class_indices.keys(),output_dict=True)\n",
    "\n",
    "df_results_semfundo = pd.DataFrame(report).transpose()"
   ]
  },
  {
   "cell_type": "code",
   "execution_count": null,
   "id": "4e1a2d7e-2bd2-44bc-b1b5-08225aa649e5",
   "metadata": {},
   "outputs": [],
   "source": [
    "df_results_semfundo.to_csv('report_val_sem_fundo.csv')"
   ]
  },
  {
   "cell_type": "code",
   "execution_count": null,
   "id": "a3c8f2ec-1099-4305-9dd2-00ad0f5fd1f7",
   "metadata": {},
   "outputs": [],
   "source": [
    "results_df['Validation Accuracy'].max()"
   ]
  },
  {
   "cell_type": "code",
   "execution_count": null,
   "id": "a6374bc7-bae9-4815-ab56-87ab0434ef4c",
   "metadata": {},
   "outputs": [],
   "source": [
    "results_df = pd.DataFrame({\n",
    "    'Fold': range(0, len(accuracies[0])),\n",
    "    'Train Accuracy': accuracies[0],\n",
    "    'Train Loss': losses[0],\n",
    "    'Validation Accuracy': val_accuracies[0],\n",
    "    'Validation Loss': val_losses[0]\n",
    "})\n"
   ]
  },
  {
   "cell_type": "code",
   "execution_count": null,
   "id": "f35cb833-3300-46c1-abb7-4e2f78a0950d",
   "metadata": {},
   "outputs": [],
   "source": [
    "results_df.to_csv(f'best_model_com_blurred_sharp_150.csv', index=False)"
   ]
  },
  {
   "cell_type": "code",
   "execution_count": null,
   "id": "49941cc2-a707-4733-b2fd-7c3c782cf91b",
   "metadata": {},
   "outputs": [],
   "source": [
    "results_df"
   ]
  },
  {
   "cell_type": "code",
   "execution_count": null,
   "id": "63ee3fa5-b806-439e-9f42-254410427984",
   "metadata": {},
   "outputs": [],
   "source": [
    "with open('model_com_trat.pickle', 'wb') as handle:\n",
    "    pickle.dump(model, handle)"
   ]
  },
  {
   "cell_type": "code",
   "execution_count": null,
   "id": "0e8ef4bb-0d2f-40d3-98f6-271732bd5b0c",
   "metadata": {},
   "outputs": [],
   "source": [
    "import pandas as pd\n",
    "for i in range(1,6):\n",
    "    data = []\n",
    "\n",
    "    with open(f\"classification_report_fold_{i}_more_epochs.txt\", \"r\") as f:\n",
    "        lines = f.read().splitlines()  \n",
    "\n",
    "    for line in lines[2:8]:  # Ignora as duas primeiras linhas de cabeçalho\n",
    "        if len(line)!=0:\n",
    "            data.append(line.split())\n",
    "    \n",
    "    # Crie um DataFrame\n",
    "    report_df = pd.DataFrame()\n",
    "    report_df = pd.DataFrame(data, columns=['class', 'precision', 'recall', 'f1-score', 'support'])\n",
    "    \n",
    "    # Ajuste os tipos de dados, se necessário\n",
    "    report_df['precision'] = pd.to_numeric(report_df['precision'], errors='coerce')\n",
    "    report_df['recall'] = pd.to_numeric(report_df['recall'], errors='coerce')\n",
    "    report_df['f1-score'] = pd.to_numeric(report_df['f1-score'], errors='coerce')\n",
    "    report_df['support'] = pd.to_numeric(report_df['support'], errors='coerce')\n",
    "    # Exiba o DataFrame\n",
    "    report_df.to_csv(f'classification_report_fold_{i}_more_epochs.csv')"
   ]
  },
  {
   "cell_type": "code",
   "execution_count": null,
   "id": "4e94b27b-462e-4ccc-ab92-a0af619bcdbc",
   "metadata": {},
   "outputs": [],
   "source": [
    "import matplotlib.pyplot as plt\n",
    "plt.rcParams.update(plt.rcParamsDefault)\n",
    "\n",
    "plt.style.use('seaborn-v0_8-whitegrid')"
   ]
  },
  {
   "cell_type": "code",
   "execution_count": null,
   "id": "1646a325-2f6e-4fed-be54-a737dd8aa7f3",
   "metadata": {},
   "outputs": [],
   "source": [
    "# plt.style.use('fast')\n",
    "results_df = pd.read_csv(f'cross_validation_results_with_time_more_epochs.csv')\n",
    "plt.figure(figsize=(7,4))\n",
    "plt.xlabel('K-folds')\n",
    "plt.ylabel('Acurácia')\n",
    "plt.plot(results_df['Fold'].astype(str), results_df['Train Accuracy'], 'r', label='Acurácia de treino')\n",
    "plt.plot(results_df['Fold'].astype(str), results_df['Validation Accuracy'], 'b', label='Acurácia de validação')\n",
    "plt.title('Acurácia de treino e validação - Resnet50 sem fundo, 150 epocas')\n",
    "plt.legend()\n",
    "\n",
    "plt.figure(figsize=(7,4))\n",
    "\n",
    "# plt.plot(epochs, loss, 'r', label='Training Loss')\n",
    "# plt.plot(epochs, val_loss, 'b', label='Validation Loss')\n",
    "# plt.title('Training and validation loss')\n",
    "# plt.legend()\n",
    "\n",
    "plt.show()"
   ]
  },
  {
   "cell_type": "code",
   "execution_count": null,
   "id": "fe1f024a-4436-4168-9da7-7756a0a80441",
   "metadata": {},
   "outputs": [],
   "source": [
    "plt.figure(figsize=(7,4))\n",
    "\n",
    "plt.plot(results_df['Fold'], results_df['Train Accuracy'], 'r', label='Training accuracy')\n",
    "plt.plot(results_df['Fold'], results_df['Validation Accuracy'], 'b', label='Validation accuracy')\n",
    "plt.title('Training and validation accuracy')\n",
    "plt.legend()\n",
    "\n",
    "plt.figure(figsize=(7,4))\n",
    "\n",
    "plt.plot(results_df['Fold'], results_df['Train Loss'], 'r', label='Training Loss')\n",
    "plt.plot(results_df['Fold'], results_df['Validation Loss'], 'b', label='Validation Loss')\n",
    "plt.title('Training and validation loss')\n",
    "plt.legend()\n",
    "\n",
    "plt.show()"
   ]
  },
  {
   "cell_type": "code",
   "execution_count": null,
   "id": "00a4764d-3d40-42af-8317-e6c695236607",
   "metadata": {},
   "outputs": [],
   "source": [
    "import time\n",
    "from sklearn.metrics import classification_report\n",
    "\n",
    "accuracies = []\n",
    "losses = []\n",
    "val_accuracies = []\n",
    "val_losses = []\n",
    "times = []  # To store the duration of each fold\n",
    "\n",
    "# Gerador de dados\n",
    "datagen = ImageDataGenerator(rescale=1./255)\n",
    "\n",
    "# KFold cross-validation\n",
    "kf = KFold(n_splits=k_folds, random_state=42, shuffle=True)\n",
    "\n",
    "fold_no = 1\n",
    "for train_index, val_index in kf.split(data):\n",
    "    print(f'Training fold {fold_no}/{k_folds}...')\n",
    "    \n",
    "    # Start timing\n",
    "    start_time = time.time()\n",
    "\n",
    "    # Dividindo os dados em treino e validação\n",
    "    train_data = data[train_index]\n",
    "    train_labels = labels[train_index]\n",
    "    df_train = pd.DataFrame({'paths':train_data, 'labels':train_labels}).astype(str)\n",
    "    \n",
    "    val_data = data[val_index]\n",
    "    val_labels = labels[val_index]\n",
    "    df_val = pd.DataFrame({'paths':val_data, 'labels':val_labels}).astype(str)\n",
    "\n",
    "    # Geradores de dados\n",
    "    train_generator = datagen.flow_from_dataframe(\n",
    "        dataframe=df_train,\n",
    "        directory=diretorio_base,\n",
    "        x_col='paths',\n",
    "        y_col='labels',\n",
    "        target_size=(224, 224),\n",
    "        batch_size=batch_size,\n",
    "        class_mode='categorical',\n",
    "        shuffle=False)\n",
    "    \n",
    "    val_generator = datagen.flow_from_dataframe(\n",
    "        dataframe=df_val,\n",
    "        directory=diretorio_base,\n",
    "        x_col='paths',\n",
    "        y_col='labels',\n",
    "        target_size=(224, 224),\n",
    "        batch_size=batch_size,\n",
    "        class_mode='categorical',\n",
    "        shuffle=False\n",
    "    )\n",
    "    \n",
    "    # Criar o modelo\n",
    "    model = create_model()\n",
    "    \n",
    "    # Callbacks\n",
    "    early_stopping = EarlyStopping(patience=10, monitor='val_loss', mode='min')\n",
    "    mcp_save = ModelCheckpoint(f'best_model_fold_{fold_no}_more_epochs.h5', save_best_only=True, monitor='val_loss', mode='min')\n",
    "    reduce_lr_loss = ReduceLROnPlateau(monitor='val_loss', factor=0.1, patience=7, verbose=1, min_delta=1e-4, mode='min')\n",
    "    \n",
    "    # Treinar o modelo\n",
    "    history = model.fit(\n",
    "        train_generator,\n",
    "        validation_data=val_generator,\n",
    "        epochs=epochs,\n",
    "        callbacks=[early_stopping, mcp_save, reduce_lr_loss]\n",
    "    )\n",
    "    \n",
    "    # Armazenar os resultados\n",
    "    accuracies.append(history.history['accuracy'][-1])\n",
    "    losses.append(history.history['loss'][-1])\n",
    "    val_accuracies.append(history.history['val_accuracy'][-1])\n",
    "    val_losses.append(history.history['val_loss'][-1])\n",
    "    \n",
    "    # Fazer previsões no conjunto de validação\n",
    "    val_preds = model.predict(val_generator)\n",
    "    val_preds_classes = np.argmax(val_preds, axis=1)\n",
    "    val_true_classes = val_generator.classes\n",
    "    \n",
    "    # Gerar e salvar o relatório de classificação\n",
    "    report = classification_report(val_true_classes, val_preds_classes, target_names=val_generator.class_indices.keys())\n",
    "    with open(f'classification_report_fold_{fold_no}_more_epochs.txt', 'w') as f:\n",
    "        f.write(report)\n",
    "    \n",
    "    print(f'Classification Report for Fold {fold_no}:\\n{report}')\n",
    "    \n",
    "    # End timing\n",
    "    end_time = time.time()\n",
    "    elapsed_time = end_time - start_time  # Calculate the duration of the fold in seconds\n",
    "    times.append(elapsed_time)  # Store the duration\n",
    "    \n",
    "    print(f'Fold {fold_no} took {elapsed_time:.2f} seconds.')\n",
    "    \n",
    "    fold_no += 1\n",
    "    \n",
    "# Criar um DataFrame com os resultados\n",
    "results_df = pd.DataFrame({\n",
    "    'Fold': range(1, fold_no),\n",
    "    'Train Accuracy': accuracies,\n",
    "    'Train Loss': losses,\n",
    "    'Validation Accuracy': val_accuracies,\n",
    "    'Validation Loss': val_losses,\n",
    "    'Time (seconds)': times  # Add the duration of each fold\n",
    "})\n",
    "\n",
    "# Salvar os resultados em um arquivo CSV\n",
    "results_df.to_csv(f'cross_validation_results_with_time_more_epochs.csv', index=False)"
   ]
  },
  {
   "cell_type": "code",
   "execution_count": null,
   "id": "6fc0801d-3297-4000-9678-c16e818ad5df",
   "metadata": {},
   "outputs": [],
   "source": []
  },
  {
   "cell_type": "code",
   "execution_count": null,
   "id": "bf3b438a-678c-4626-9a89-01248bebdf55",
   "metadata": {},
   "outputs": [],
   "source": []
  },
  {
   "cell_type": "code",
   "execution_count": null,
   "id": "16c5c5cb-95dc-4fbc-abf0-a281ad05e62a",
   "metadata": {},
   "outputs": [],
   "source": [
    "results_df['Train Accuracy'].mean(),results_df['Validation Accuracy'].mean()"
   ]
  },
  {
   "cell_type": "code",
   "execution_count": null,
   "id": "802d3fca-e121-4a4f-b9fa-4e9d76b6936a",
   "metadata": {},
   "outputs": [],
   "source": [
    "from sklearn.preprocessing import LabelEncoder\n",
    "\n",
    "label_encoder = LabelEncoder()\n",
    "df_train['species_code'] = label_encoder.fit_transform(df_train['species'])\n",
    "df_train['species_code'] = label_encoder.transform(df_train['species'])"
   ]
  },
  {
   "cell_type": "code",
   "execution_count": null,
   "id": "e264d621-4b3a-4d0e-8162-202e265e4233",
   "metadata": {},
   "outputs": [],
   "source": [
    "with open('label_enconder.pickle', 'wb') as handle:\n",
    "    pickle.dump(label_encoder, handle)"
   ]
  },
  {
   "cell_type": "code",
   "execution_count": null,
   "id": "15dc583b-1309-4f8f-b06c-59a22e705281",
   "metadata": {},
   "outputs": [],
   "source": [
    "df_test['species_code'] = label_encoder.transform(df_test['species'])"
   ]
  },
  {
   "cell_type": "code",
   "execution_count": null,
   "id": "85fa7773-a7bf-426c-8848-61f6847a1c11",
   "metadata": {},
   "outputs": [],
   "source": [
    "df_train.head()"
   ]
  },
  {
   "cell_type": "code",
   "execution_count": null,
   "id": "622ccb40-34c9-4014-bc06-a18a905b5b73",
   "metadata": {},
   "outputs": [],
   "source": [
    "df_train.groupby(['species','species_code']).count()['index'].reset_index().to_csv('species_code.csv')"
   ]
  },
  {
   "cell_type": "code",
   "execution_count": null,
   "id": "a6f7e099-676b-4443-aa7f-3f9192c90d79",
   "metadata": {},
   "outputs": [],
   "source": []
  },
  {
   "cell_type": "code",
   "execution_count": null,
   "id": "2938fb2b-8c9a-4b55-8f8e-0dde9e40ee42",
   "metadata": {},
   "outputs": [],
   "source": []
  },
  {
   "cell_type": "markdown",
   "id": "650c42c1-b9ec-4caa-b964-321cb53dddb3",
   "metadata": {},
   "source": [
    "### Baseline without Data Augmentation"
   ]
  },
  {
   "cell_type": "code",
   "execution_count": null,
   "id": "c63a1ff8-e0f7-4f83-b8ca-d2b89252fd6d",
   "metadata": {},
   "outputs": [],
   "source": [
    "img_height = 224\n",
    "img_width = 224\n",
    "channels = 3\n",
    "num_classes= df_train['species'].nunique()\n",
    "X_train = img_train_normalized\n",
    "y_train = df_train['species_code']\n",
    "X_test = img_test_normalized\n",
    "y_test = df_test['species_code']"
   ]
  },
  {
   "cell_type": "code",
   "execution_count": null,
   "id": "a9faf8a3-c55b-4932-984d-d77835bb1cd2",
   "metadata": {},
   "outputs": [],
   "source": [
    "y_test = np.asarray(y_test).astype('int').reshape((-1,1))"
   ]
  },
  {
   "cell_type": "code",
   "execution_count": null,
   "id": "c291ebb8-18b7-464d-b125-2be8986f9a8c",
   "metadata": {},
   "outputs": [],
   "source": [
    "y_train = np.asarray(y_train).astype('int').reshape((-1,1))"
   ]
  },
  {
   "cell_type": "code",
   "execution_count": null,
   "id": "bd490f74-4468-4de4-aba8-8aa454e36e40",
   "metadata": {},
   "outputs": [],
   "source": [
    "from tensorflow.keras.utils import set_random_seed\n",
    "set_random_seed(42)"
   ]
  },
  {
   "cell_type": "code",
   "execution_count": null,
   "id": "a706948e-6bdf-4e6e-a802-09230c7c3ce6",
   "metadata": {},
   "outputs": [],
   "source": [
    "from tensorflow.keras.applications.resnet50 import ResNet50\n",
    "base_model = ResNet50(include_top=False,\n",
    "                  input_shape=(img_height, img_width, channels))"
   ]
  },
  {
   "cell_type": "code",
   "execution_count": null,
   "id": "e24027e5-0a35-4190-a5f6-d7b007de1ea3",
   "metadata": {},
   "outputs": [],
   "source": [
    "for layer in base_model.layers:\n",
    "    layer.trainable=False"
   ]
  },
  {
   "cell_type": "code",
   "execution_count": null,
   "id": "f5f337d8-1b35-4b3c-a2ec-85b15b4c2fc4",
   "metadata": {
    "tags": []
   },
   "outputs": [],
   "source": [
    "base_model.compile()\n",
    "base_model.summary()"
   ]
  },
  {
   "cell_type": "code",
   "execution_count": null,
   "id": "3ce7a07e-5c16-48ad-a8ac-50bb83a1a1a3",
   "metadata": {},
   "outputs": [],
   "source": [
    "# with open('first_version.pickle', 'rb') as handle:\n",
    "#     model = pickle.load(handle)"
   ]
  },
  {
   "cell_type": "code",
   "execution_count": null,
   "id": "92fb4d28-e18b-4c5a-8a6f-eca738032bb3",
   "metadata": {
    "scrolled": true
   },
   "outputs": [],
   "source": [
    "from tensorflow.keras import Sequential\n",
    "from tensorflow.keras.layers import Dense, GlobalAveragePooling2D\n",
    "from tensorflow.keras.callbacks import EarlyStopping,ModelCheckpoint,ReduceLROnPlateau\n",
    "\n",
    "# Definir o Early Stopping\n",
    "early_stopping = EarlyStopping(patience=10, monitor='val_loss', mode='min')\n",
    "mcp_save = ModelCheckpoint('{epoch:02d}-{val_loss:.2f}.keras', save_best_only=True, monitor='val_loss', mode='min')\n",
    "reduce_lr_loss = ReduceLROnPlateau(monitor='val_loss', factor=0.1, patience=7, verbose=1, min_delta=1e-4, mode='min')\n",
    "\n",
    "model = Sequential([base_model,\n",
    "                    GlobalAveragePooling2D(),\n",
    "                    Dense(1024, activation='relu'),\n",
    "                    Dense(512, activation='relu'),\n",
    "                    Dense(num_classes, activation='softmax')\n",
    "])\n",
    "\n",
    "model.compile(optimizer=\"adam\", loss=\"sparse_categorical_crossentropy\", metrics=[\"accuracy\"])\n",
    "\n",
    "history = model.fit(X_train, \n",
    "                    y_train,\n",
    "                    epochs=50, \n",
    "                    validation_data=(X_test, y_test),\n",
    "                    callbacks=[early_stopping, mcp_save, reduce_lr_loss])"
   ]
  },
  {
   "cell_type": "code",
   "execution_count": null,
   "id": "353dec11-5af2-4f29-babc-b08fa51acd6a",
   "metadata": {},
   "outputs": [],
   "source": [
    "model.fit()"
   ]
  },
  {
   "cell_type": "code",
   "execution_count": null,
   "id": "fc94cf46-52cf-45c4-b907-c2a108bb6b66",
   "metadata": {},
   "outputs": [],
   "source": [
    "acc = history.history['accuracy']\n",
    "val_acc = history.history['val_accuracy']\n",
    "loss = history.history['loss']\n",
    "val_loss = history.history['val_loss']\n",
    "\n",
    "epochs = range(len(acc))\n",
    "\n",
    "plt.figure(figsize=(7,4))\n",
    "\n",
    "plt.plot(epochs, acc, 'r', label='Training accuracy')\n",
    "plt.plot(epochs, val_acc, 'b', label='Validation accuracy')\n",
    "plt.title('Training and validation accuracy')\n",
    "plt.legend()\n",
    "\n",
    "plt.figure(figsize=(7,4))\n",
    "\n",
    "plt.plot(epochs, loss, 'r', label='Training Loss')\n",
    "plt.plot(epochs, val_loss, 'b', label='Validation Loss')\n",
    "plt.title('Training and validation loss')\n",
    "plt.legend()\n",
    "\n",
    "plt.show()"
   ]
  },
  {
   "cell_type": "code",
   "execution_count": null,
   "id": "f378d12e-d753-43fa-97f1-7fe87fd34f74",
   "metadata": {},
   "outputs": [],
   "source": [
    "model.summary()"
   ]
  },
  {
   "cell_type": "code",
   "execution_count": null,
   "id": "94983fc3-5f01-43d6-ac17-2a175e3303d6",
   "metadata": {},
   "outputs": [],
   "source": [
    "with open('model_10_classes.pickle', 'wb') as handle:\n",
    "    pickle.dump(model, handle)"
   ]
  },
  {
   "cell_type": "code",
   "execution_count": null,
   "id": "529b6c1d-31db-4ecb-9d7a-328d2f5ad345",
   "metadata": {},
   "outputs": [],
   "source": [
    "def get_predictions(model, examples, y_true):\n",
    "    \"\"\"Realiza predicoes para todos os exemplos e retorna um dataframe com os valores reais e os valores preditos\"\"\"\n",
    "    predictions = model.predict(examples)\n",
    "\n",
    "    predicted_labels = np.argmax(predictions, axis=1)\n",
    "\n",
    "\n",
    "    df_predictions = pd.DataFrame({'true_label': y_true.reshape(-1),\n",
    "                                   'predicted_label': predicted_labels})\n",
    "\n",
    "    return df_predictions\n",
    "\n"
   ]
  },
  {
   "cell_type": "code",
   "execution_count": null,
   "id": "a4e42a5e-85d5-4f65-b825-73d436782007",
   "metadata": {},
   "outputs": [],
   "source": [
    "df_pred_test = get_predictions(model, X_test, y_test)"
   ]
  },
  {
   "cell_type": "code",
   "execution_count": null,
   "id": "a55cdff5-c44e-45f0-b374-d9f700e1090c",
   "metadata": {},
   "outputs": [],
   "source": [
    "df_pred_test_new = df_test.join(df_pred_test)"
   ]
  },
  {
   "cell_type": "code",
   "execution_count": null,
   "id": "6873e80d-2d5d-4767-968e-25526cfc8348",
   "metadata": {},
   "outputs": [],
   "source": [
    "df_pred_train = get_predictions(model, X_train, y_train)"
   ]
  },
  {
   "cell_type": "code",
   "execution_count": null,
   "id": "2b7c1136-999d-41bf-a96e-de40f5b08320",
   "metadata": {},
   "outputs": [],
   "source": [
    "df_pred_train_new = df_train.join(df_pred_train)"
   ]
  },
  {
   "cell_type": "code",
   "execution_count": null,
   "id": "0e5f0298-d66e-4b82-83a8-4cf8c6dd863d",
   "metadata": {},
   "outputs": [],
   "source": [
    "from sklearn.metrics import accuracy_score\n",
    "print('ACcuracy', accuracy_score(df_pred_train_new['true_label'], df_pred_train_new['predicted_label']))\n",
    "print('ACcuracy', accuracy_score(df_pred_test_new['true_label'], df_pred_test_new['predicted_label']))"
   ]
  },
  {
   "cell_type": "code",
   "execution_count": null,
   "id": "a1414169-ebc6-4e09-992a-b0abb60c4a37",
   "metadata": {},
   "outputs": [],
   "source": [
    "from sklearn.metrics import classification_report,roc_auc_score\n",
    "\n",
    "print(classification_report(df_pred_test_new['true_label'], df_pred_test_new['predicted_label']))"
   ]
  },
  {
   "cell_type": "code",
   "execution_count": null,
   "id": "5eff2187-1be0-46fb-bf1a-2836f707ed0d",
   "metadata": {},
   "outputs": [],
   "source": [
    "dict_classification_report = classification_report(df_pred_test_new['true_label'], df_pred_test_new['predicted_label'], output_dict=True)"
   ]
  },
  {
   "cell_type": "code",
   "execution_count": null,
   "id": "aa659433-6af3-4964-9fad-50015ce899c2",
   "metadata": {},
   "outputs": [],
   "source": [
    "df_class_report = pd.DataFrame(dict_classification_report).transpose()"
   ]
  },
  {
   "cell_type": "code",
   "execution_count": null,
   "id": "e1d7cfa0-f116-495e-8b3b-6270cdfaae6f",
   "metadata": {},
   "outputs": [],
   "source": [
    "df_class_report = df_class_report.reset_index().rename(columns={'index':'species_code'})"
   ]
  },
  {
   "cell_type": "code",
   "execution_count": null,
   "id": "1ef53683-b9b3-4fc3-b6d8-618ad1c373a9",
   "metadata": {},
   "outputs": [],
   "source": [
    "df_class_report_sin_acc = df_class_report[:-3]"
   ]
  },
  {
   "cell_type": "code",
   "execution_count": null,
   "id": "465dd5c4-a904-49d1-b3db-3dc829f1dab9",
   "metadata": {},
   "outputs": [],
   "source": [
    "df_class_report_sin_acc['species_code'] = df_class_report_sin_acc['species_code'].astype(int)"
   ]
  },
  {
   "cell_type": "code",
   "execution_count": null,
   "id": "d05b3b93-0381-4a45-91a1-4dce802bc307",
   "metadata": {},
   "outputs": [],
   "source": [
    "df_class_report_sin_acc.columns"
   ]
  },
  {
   "cell_type": "code",
   "execution_count": null,
   "id": "b3e60de9-4141-4437-92ea-3a1226ec7585",
   "metadata": {},
   "outputs": [],
   "source": [
    "df_class_report_sin_acc['precision'].describe()"
   ]
  },
  {
   "cell_type": "code",
   "execution_count": null,
   "id": "7a1ef26f-eaf2-42da-86e2-33b98f3d136a",
   "metadata": {},
   "outputs": [],
   "source": [
    "df_class_report_sin_acc['f1-score'].describe()"
   ]
  },
  {
   "cell_type": "code",
   "execution_count": null,
   "id": "889a7f87-b033-49c7-97be-90a343c1f277",
   "metadata": {},
   "outputs": [],
   "source": [
    "df_class_report_sin_acc['recall'].describe()"
   ]
  },
  {
   "cell_type": "code",
   "execution_count": null,
   "id": "d8f0a44f-bda4-4053-b141-65d628b0b9a2",
   "metadata": {},
   "outputs": [],
   "source": [
    "df_class_report_sin_acc.merge(df_test[['species','species_code']].drop_duplicates(), on='species_code').to_excel('metrics_test.xlsx')"
   ]
  },
  {
   "cell_type": "code",
   "execution_count": null,
   "id": "47ed4b27-64aa-4233-b40c-7d5c14ec56c1",
   "metadata": {},
   "outputs": [],
   "source": [
    "from sklearn.metrics import recall_score,f1_score,roc_auc_score,precision_score\n"
   ]
  },
  {
   "cell_type": "code",
   "execution_count": null,
   "id": "449b41f9-cf1e-4637-87fb-ddbea0940529",
   "metadata": {},
   "outputs": [],
   "source": [
    "precision_score(df_pred_test_new['true_label'], df_pred_test_new['predicted_label'], average = 'macro')"
   ]
  },
  {
   "cell_type": "code",
   "execution_count": null,
   "id": "4531a5ae-07de-4182-857d-0e0364bddb62",
   "metadata": {},
   "outputs": [],
   "source": [
    "macro_averaged_recall = recall_score(df_pred_test_new['true_label'], \n",
    "                                             df_pred_test_new['predicted_label'], \n",
    "                                             average = 'macro')\n",
    "\n",
    "print(f\"Macro-averaged recall score using sklearn : {macro_averaged_recall}\")\n"
   ]
  },
  {
   "cell_type": "code",
   "execution_count": null,
   "id": "60d4e7cb-8f46-4bdb-8d1b-3c74bb0729d5",
   "metadata": {},
   "outputs": [],
   "source": [
    "macro_averaged_f1 = f1_score(df_pred_test_new['true_label'], df_pred_test_new['predicted_label'], average = 'macro')\n",
    "print(f\"Macro-Averaged F1 score using sklearn library : {macro_averaged_f1}\")\n"
   ]
  },
  {
   "cell_type": "code",
   "execution_count": null,
   "id": "b15dbb83-4081-43b2-bdd6-2cf0e3e34bcc",
   "metadata": {},
   "outputs": [],
   "source": [
    "from sklearn.metrics import roc_auc_score\n",
    "\n",
    "def roc_auc_score_multiclass(actual_class, pred_class, average = \"macro\"):\n",
    "    \n",
    "    #creating a set of all the unique classes using the actual class list\n",
    "    unique_class = set(actual_class)\n",
    "    roc_auc_dict = {}\n",
    "    for per_class in unique_class:\n",
    "        \n",
    "        #creating a list of all the classes except the current class \n",
    "        other_class = [x for x in unique_class if x != per_class]\n",
    "\n",
    "        #marking the current class as 1 and all other classes as 0\n",
    "        new_actual_class = [0 if x in other_class else 1 for x in actual_class]\n",
    "        new_pred_class = [0 if x in other_class else 1 for x in pred_class]\n",
    "\n",
    "        #using the sklearn metrics method to calculate the roc_auc_score\n",
    "        roc_auc = roc_auc_score(new_actual_class, new_pred_class, average = average)\n",
    "        roc_auc_dict[per_class] = roc_auc\n",
    "\n",
    "    return roc_auc_dict"
   ]
  },
  {
   "cell_type": "code",
   "execution_count": null,
   "id": "86cb0f5b-a305-45ba-a85a-2a929725b173",
   "metadata": {},
   "outputs": [],
   "source": [
    "dict_roc = roc_auc_score_multiclass(df_pred_test_new['true_label'], df_pred_test_new['predicted_label'])"
   ]
  },
  {
   "cell_type": "code",
   "execution_count": null,
   "id": "47c3d575-9698-4ba3-b80a-4b845693819e",
   "metadata": {},
   "outputs": [],
   "source": [
    "np.mean([i for i in dict_roc.values()])"
   ]
  },
  {
   "cell_type": "code",
   "execution_count": null,
   "id": "c7cfaf26-f679-4a15-8bad-f8c7eeef37b8",
   "metadata": {},
   "outputs": [],
   "source": [
    "from sklearn.metrics import cohen_kappa_score\n",
    "\n",
    "cohen_kappa_score(df_pred_test_new['true_label'], df_pred_test_new['predicted_label'])"
   ]
  },
  {
   "cell_type": "code",
   "execution_count": null,
   "id": "ce600c0b-1f6a-40bf-9ac3-bcfda7f0dc36",
   "metadata": {},
   "outputs": [],
   "source": [
    "count=0"
   ]
  },
  {
   "cell_type": "code",
   "execution_count": null,
   "id": "9103786f-eb80-41d6-9b27-5f6e9eacba06",
   "metadata": {
    "tags": []
   },
   "outputs": [],
   "source": [
    "for i, j, full_path in zip(df_pred_test_new['species_code'], df_pred_test_new['predicted_label'], df_pred_test_new['full_path']):\n",
    "    \n",
    "    path_specie_true = full_path\n",
    "    path_specie_predicted = df_pred_test_new.loc[df_pred_test_new['species_code']==j, 'full_path'].sample(n=1).values[0]\n",
    "    \n",
    "    specie_true = df_pred_test_new.loc[df_pred_test_new['species_code']==i, 'species'].iloc[0]\n",
    "    specie_predicted = df_pred_test_new.loc[df_pred_test_new['species_code']==j, 'species'].iloc[0]\n",
    "    \n",
    "    if i != j:\n",
    "        count+=1\n",
    "        img_true = Image.open(path_specie_true)\n",
    "        img_predicted = Image.open(path_specie_predicted)\n",
    "\n",
    "        # Exibir as imagens usando matplotlib\n",
    "        fig, axs = plt.subplots(1, 2, figsize=(10,10))\n",
    "        axs[0].imshow(img_true, cmap='gray')\n",
    "        axs[0].set_title('Classe original: {0} - {1}'.format(i,specie_true))\n",
    "        axs[0].axis('off')  # Oculta os eixos para melhorar a visualização\n",
    "\n",
    "        axs[1].imshow(img_predicted, cmap='gray')\n",
    "        axs[1].set_title('Classe predita: {0} - {1}'.format(j, specie_predicted))\n",
    "        axs[1].axis('off')  # Oculta os eixos para melhorar a visualização\n",
    "\n",
    "        plt.show()"
   ]
  },
  {
   "cell_type": "code",
   "execution_count": null,
   "id": "55bad562-8d3b-4fc0-bf06-8df68c62266a",
   "metadata": {},
   "outputs": [],
   "source": [
    "# train_folder = os.path.join(diretorio_base, 'train')\n",
    "# test_folder = os.path.join(diretorio_base, 'test')\n",
    "\n",
    "# for files_species in df['file_paths']:\n",
    "#     random.seed(42)\n",
    "#     random.shuffle(files_species)\n",
    "    \n",
    "#     # determine the number of images for each set\n",
    "#     train_size = int(len(files_species) * 0.70)\n",
    "#     test_size = int(len(files_species) * 0.30)\n",
    "    \n",
    "#     # Create destination folders if they don't exist\n",
    "#     for folder_path in [train_folder, test_folder]:\n",
    "#         if not os.path.exists(folder_path):\n",
    "#             os.makedirs(folder_path)\n",
    "            \n",
    "#     # Copy image files to destination folders\n",
    "#     for i, f in enumerate(files_species):\n",
    "#         if i < train_size:\n",
    "#             dest_folder = train_folder\n",
    "#         else:\n",
    "#             dest_folder = test_folder\n",
    "        \n",
    "#         for folder in folders:\n",
    "#             if not os.path.exists(os.path.join(dest_folder, folder)):\n",
    "#                 os.makedirs(os.path.join(dest_folder, folder))\n",
    "    \n",
    "#         shutil.copyfile(src=os.path.join(diretorio_base, f), dst=os.path.join(dest_folder, f))\n",
    "\n",
    "# def get_data(folder_division):\n",
    "#     df = pd.DataFrame(columns=['species','file_path','folder','folder_division'])\n",
    "\n",
    "#     for files in os.listdir(folder_division):\n",
    "#         if '.' not in files:\n",
    "#             qty_files = len(os.listdir(os.path.join(folder_division, files)))\n",
    "#             species = files.split('_')[0].lower()\n",
    "#             df_temp = pd.DataFrame(data={'species':[species]*qty_files,\n",
    "#                                          'file_path':os.listdir(os.path.join(folder_division, files)),\n",
    "#                                          'folder':[files]*qty_files,\n",
    "#                                          'folder_division':[folder_division]*qty_files},\n",
    "#                                    columns=['species','file_path','folder','folder_division'])\n",
    "\n",
    "#             df = pd.concat([df, df_temp])\n",
    "#     return df.reset_index()\n",
    "\n",
    "# df_train = get_data(train_folder)\n",
    "# df_train['full_path'] = df_train['folder_division'] + '/' + df_train['folder'] + '/' + df_train['file_path']\n",
    "# df_test = get_data(test_folder)\n",
    "# df_test['full_path'] = df_test['folder_division'] + '/' + df_test['folder'] + '/' + df_test['file_path']"
   ]
  },
  {
   "cell_type": "code",
   "execution_count": 41,
   "id": "9846ce8f-40e0-4ded-a1e8-eb426f0e353c",
   "metadata": {},
   "outputs": [
    {
     "data": {
      "image/png": "[encoded data removed]",
      "text/plain": [
       "<IPython.core.display.Image object>"
      ]
     },
     "execution_count": 41,
     "metadata": {},
     "output_type": "execute_result"
    }
   ],
   "source": [
    "from tensorflow.keras.utils import plot_model\n",
    "\n",
    "model = create_model()  # Sua função que cria o modelo\n",
    "plot_model(model, to_file=\"modelo.png\", show_shapes=True, show_layer_names=True)\n"
   ]
  },
  {
   "cell_type": "code",
   "execution_count": 42,
   "id": "d3cf7028-844b-4874-981a-ef4cb4880eab",
   "metadata": {},
   "outputs": [
    {
     "name": "stdout",
     "output_type": "stream",
     "text": [
      "Serving 'best_model_com_blurred_sharp_150.h5' at http://localhost:8080\n"
     ]
    },
    {
     "data": {
      "text/plain": [
       "('localhost', 8080)"
      ]
     },
     "execution_count": 42,
     "metadata": {},
     "output_type": "execute_result"
    }
   ],
   "source": [
    "import netron\n",
    "netron.start(\"best_model_com_blurred_sharp_150.h5\")\n"
   ]
  },
  {
   "cell_type": "code",
   "execution_count": null,
   "id": "b2f37716-9c87-424e-a3b1-69899ce934c9",
   "metadata": {},
   "outputs": [],
   "source": []
  }
 ],
 "metadata": {
  "kernelspec": {
   "display_name": "Python (myenv)",
   "language": "python",
   "name": "myenv"
  },
  "language_info": {
   "codemirror_mode": {
    "name": "ipython",
    "version": 3
   },
   "file_extension": ".py",
   "mimetype": "text/x-python",
   "name": "python",
   "nbconvert_exporter": "python",
   "pygments_lexer": "ipython3",
   "version": "3.10.13"
  }
 },
 "nbformat": 4,
 "nbformat_minor": 5
}
